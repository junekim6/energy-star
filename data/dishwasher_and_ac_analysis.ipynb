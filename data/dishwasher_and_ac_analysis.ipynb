{
 "cells": [
  {
   "cell_type": "markdown",
   "metadata": {},
   "source": [
    "## Set up"
   ]
  },
  {
   "cell_type": "code",
   "execution_count": 1,
   "metadata": {},
   "outputs": [],
   "source": [
    "import pandas as pd\n",
    "import re\n",
    "import numpy as np\n",
    "import matplotlib.pyplot as plt\n",
    "from IPython.display import display, HTML\n",
    "\n",
    "pd.set_option('display.max_columns', None)"
   ]
  },
  {
   "cell_type": "markdown",
   "metadata": {},
   "source": [
    "# Dishwasher Analysis"
   ]
  },
  {
   "cell_type": "code",
   "execution_count": 2,
   "metadata": {},
   "outputs": [],
   "source": [
    "epa_dishwasher = pd.read_csv(\"input_data/epa_dishwasher.csv\")\n",
    "doe_dishwasher = pd.read_csv(\"input_data/doe_dishwasher.csv\")"
   ]
  },
  {
   "cell_type": "code",
   "execution_count": 3,
   "metadata": {},
   "outputs": [
    {
     "data": {
      "text/html": [
       "<div>\n",
       "<style scoped>\n",
       "    .dataframe tbody tr th:only-of-type {\n",
       "        vertical-align: middle;\n",
       "    }\n",
       "\n",
       "    .dataframe tbody tr th {\n",
       "        vertical-align: top;\n",
       "    }\n",
       "\n",
       "    .dataframe thead th {\n",
       "        text-align: right;\n",
       "    }\n",
       "</style>\n",
       "<table border=\"1\" class=\"dataframe\">\n",
       "  <thead>\n",
       "    <tr style=\"text-align: right;\">\n",
       "      <th></th>\n",
       "      <th>ENERGY STAR Unique ID</th>\n",
       "      <th>Brand Name</th>\n",
       "      <th>Model Number</th>\n",
       "      <th>Additional Model Information</th>\n",
       "      <th>UPC</th>\n",
       "      <th>Type</th>\n",
       "      <th>Width (inches)</th>\n",
       "      <th>Depth (inches)</th>\n",
       "      <th>Capacity - Maximum Number of Place Settings</th>\n",
       "      <th>Soil-Sensing Capability</th>\n",
       "      <th>Tub Material</th>\n",
       "      <th>Drying Method</th>\n",
       "      <th>Additional Product Features</th>\n",
       "      <th>Annual Energy Use (kWh/yr)</th>\n",
       "      <th>US Federal Standard (kWh/yr)</th>\n",
       "      <th>% Better than US Federal Standard (kWh/yr)</th>\n",
       "      <th>Water Use (gallons/cycle)</th>\n",
       "      <th>US Federal Standard (gallons/cycle)</th>\n",
       "      <th>% Better than US Federal Standard (gallons/cycle)</th>\n",
       "      <th>Connected Capable</th>\n",
       "      <th>Connects Using</th>\n",
       "      <th>Communication Hardware Architecture</th>\n",
       "      <th>DR Protocol</th>\n",
       "      <th>Direct on-premises Open-standard Based Interconnection</th>\n",
       "      <th>Date Available On Market</th>\n",
       "      <th>Date Certified</th>\n",
       "      <th>Markets</th>\n",
       "      <th>CB Model Identifier</th>\n",
       "      <th>Meets ENERGY STAR Most Efficient 2023 Criteria</th>\n",
       "    </tr>\n",
       "  </thead>\n",
       "  <tbody>\n",
       "    <tr>\n",
       "      <th>0</th>\n",
       "      <td>2386941</td>\n",
       "      <td>Bosch</td>\n",
       "      <td>SHEM63W5**</td>\n",
       "      <td>,SHEM63W5**,First \"*\" is for the color, 2nd \"*...</td>\n",
       "      <td>825225922223;825225922438;825225922445</td>\n",
       "      <td>Standard</td>\n",
       "      <td>NaN</td>\n",
       "      <td>NaN</td>\n",
       "      <td>NaN</td>\n",
       "      <td>NaN</td>\n",
       "      <td>NaN</td>\n",
       "      <td>NaN</td>\n",
       "      <td>NaN</td>\n",
       "      <td>269</td>\n",
       "      <td>307.0</td>\n",
       "      <td>12.0</td>\n",
       "      <td>2.9</td>\n",
       "      <td>5.0</td>\n",
       "      <td>42.0</td>\n",
       "      <td>No</td>\n",
       "      <td>NaN</td>\n",
       "      <td>NaN</td>\n",
       "      <td>NaN</td>\n",
       "      <td>NaN</td>\n",
       "      <td>11/09/2016</td>\n",
       "      <td>10/26/2021</td>\n",
       "      <td>United States, Canada</td>\n",
       "      <td>ES_31649_SHEM63W5**_10272021101706_1474573</td>\n",
       "      <td>No</td>\n",
       "    </tr>\n",
       "  </tbody>\n",
       "</table>\n",
       "</div>"
      ],
      "text/plain": [
       "   ENERGY STAR Unique ID Brand Name Model Number  \\\n",
       "0                2386941      Bosch   SHEM63W5**   \n",
       "\n",
       "                        Additional Model Information  \\\n",
       "0  ,SHEM63W5**,First \"*\" is for the color, 2nd \"*...   \n",
       "\n",
       "                                      UPC      Type  Width (inches)  \\\n",
       "0  825225922223;825225922438;825225922445  Standard             NaN   \n",
       "\n",
       "   Depth (inches)  Capacity - Maximum Number of Place Settings  \\\n",
       "0             NaN                                          NaN   \n",
       "\n",
       "  Soil-Sensing Capability Tub Material Drying Method  \\\n",
       "0                     NaN          NaN           NaN   \n",
       "\n",
       "  Additional Product Features  Annual Energy Use (kWh/yr)  \\\n",
       "0                         NaN                         269   \n",
       "\n",
       "   US Federal Standard (kWh/yr)  % Better than US Federal Standard (kWh/yr)  \\\n",
       "0                         307.0                                        12.0   \n",
       "\n",
       "   Water Use (gallons/cycle)  US Federal Standard (gallons/cycle)  \\\n",
       "0                        2.9                                  5.0   \n",
       "\n",
       "   % Better than US Federal Standard (gallons/cycle) Connected Capable  \\\n",
       "0                                               42.0                No   \n",
       "\n",
       "  Connects Using Communication Hardware Architecture  DR Protocol  \\\n",
       "0            NaN                                 NaN          NaN   \n",
       "\n",
       "  Direct on-premises Open-standard Based Interconnection  \\\n",
       "0                                                NaN       \n",
       "\n",
       "  Date Available On Market  Date Certified                Markets  \\\n",
       "0               11/09/2016      10/26/2021  United States, Canada   \n",
       "\n",
       "                          CB Model Identifier  \\\n",
       "0  ES_31649_SHEM63W5**_10272021101706_1474573   \n",
       "\n",
       "  Meets ENERGY STAR Most Efficient 2023 Criteria  \n",
       "0                                             No  "
      ]
     },
     "execution_count": 3,
     "metadata": {},
     "output_type": "execute_result"
    }
   ],
   "source": [
    "epa_dishwasher.head(1)"
   ]
  },
  {
   "cell_type": "code",
   "execution_count": 4,
   "metadata": {},
   "outputs": [
    {
     "data": {
      "text/html": [
       "<div>\n",
       "<style scoped>\n",
       "    .dataframe tbody tr th:only-of-type {\n",
       "        vertical-align: middle;\n",
       "    }\n",
       "\n",
       "    .dataframe tbody tr th {\n",
       "        vertical-align: top;\n",
       "    }\n",
       "\n",
       "    .dataframe thead th {\n",
       "        text-align: right;\n",
       "    }\n",
       "</style>\n",
       "<table border=\"1\" class=\"dataframe\">\n",
       "  <thead>\n",
       "    <tr style=\"text-align: right;\">\n",
       "      <th></th>\n",
       "      <th>Brand_Name_s__s</th>\n",
       "      <th>Product_Group_Code_Description_s</th>\n",
       "      <th>Basic_Model_Number_m</th>\n",
       "      <th>Individual_Model_Number_Covered_by_Basic_Model_m</th>\n",
       "      <th>Annual_Energy_Use__Kilowatt_Hours_Year__d</th>\n",
       "      <th>Water_Consumption__Gallons_Cycle__d</th>\n",
       "      <th>Capacity__Number_of_Place_Settings__d</th>\n",
       "      <th>Is_the_Certification_for_this_Basic_Model_Based_on_a_Waiver_of_DOE_s_Test_Procedure_Requirements__s</th>\n",
       "      <th>Is_the_Certification_based_upon_any_Exception_Relief_from_an_Applicable_Standard_by_DOE_s_Office_of_Hearing_and_Appeals__s</th>\n",
       "      <th>Link_to_FTC_EnergyGuide_Label_s</th>\n",
       "    </tr>\n",
       "  </thead>\n",
       "  <tbody>\n",
       "    <tr>\n",
       "      <th>0</th>\n",
       "      <td>LG</td>\n",
       "      <td>Standard size dishwasher</td>\n",
       "      <td>LDP681***</td>\n",
       "      <td>LDP681***</td>\n",
       "      <td>238.0</td>\n",
       "      <td>2.9</td>\n",
       "      <td>15.0</td>\n",
       "      <td>No</td>\n",
       "      <td>No</td>\n",
       "      <td>https://www.lg.com/us/dishwashers</td>\n",
       "    </tr>\n",
       "  </tbody>\n",
       "</table>\n",
       "</div>"
      ],
      "text/plain": [
       "  Brand_Name_s__s Product_Group_Code_Description_s Basic_Model_Number_m  \\\n",
       "0              LG         Standard size dishwasher            LDP681***   \n",
       "\n",
       "  Individual_Model_Number_Covered_by_Basic_Model_m  \\\n",
       "0                                        LDP681***   \n",
       "\n",
       "   Annual_Energy_Use__Kilowatt_Hours_Year__d  \\\n",
       "0                                      238.0   \n",
       "\n",
       "   Water_Consumption__Gallons_Cycle__d  Capacity__Number_of_Place_Settings__d  \\\n",
       "0                                  2.9                                   15.0   \n",
       "\n",
       "  Is_the_Certification_for_this_Basic_Model_Based_on_a_Waiver_of_DOE_s_Test_Procedure_Requirements__s  \\\n",
       "0                                                 No                                                    \n",
       "\n",
       "  Is_the_Certification_based_upon_any_Exception_Relief_from_an_Applicable_Standard_by_DOE_s_Office_of_Hearing_and_Appeals__s  \\\n",
       "0                                                 No                                                                           \n",
       "\n",
       "     Link_to_FTC_EnergyGuide_Label_s  \n",
       "0  https://www.lg.com/us/dishwashers  "
      ]
     },
     "execution_count": 4,
     "metadata": {},
     "output_type": "execute_result"
    }
   ],
   "source": [
    "doe_dishwasher.head(1)"
   ]
  },
  {
   "cell_type": "code",
   "execution_count": 5,
   "metadata": {},
   "outputs": [],
   "source": [
    "epa_dishwasher = epa_dishwasher[[\n",
    "    'Model Number',\n",
    "    'Type',\n",
    "    'Annual Energy Use (kWh/yr)',\n",
    "    'Connected Capable'\n",
    "]].drop_duplicates()\n",
    "\n",
    "doe_dishwasher = doe_dishwasher[[\n",
    "    'Product_Group_Code_Description_s',\n",
    "    'Basic_Model_Number_m',\n",
    "    'Individual_Model_Number_Covered_by_Basic_Model_m',\n",
    "    'Annual_Energy_Use__Kilowatt_Hours_Year__d'\n",
    "]].drop_duplicates()"
   ]
  },
  {
   "cell_type": "code",
   "execution_count": 6,
   "metadata": {},
   "outputs": [
    {
     "data": {
      "text/html": [
       "<div>\n",
       "<style scoped>\n",
       "    .dataframe tbody tr th:only-of-type {\n",
       "        vertical-align: middle;\n",
       "    }\n",
       "\n",
       "    .dataframe tbody tr th {\n",
       "        vertical-align: top;\n",
       "    }\n",
       "\n",
       "    .dataframe thead th {\n",
       "        text-align: right;\n",
       "    }\n",
       "</style>\n",
       "<table border=\"1\" class=\"dataframe\">\n",
       "  <thead>\n",
       "    <tr style=\"text-align: right;\">\n",
       "      <th></th>\n",
       "      <th>Model Number</th>\n",
       "      <th>Type</th>\n",
       "      <th>Annual Energy Use (kWh/yr)</th>\n",
       "      <th>Connected Capable</th>\n",
       "      <th>annual_energy_use</th>\n",
       "    </tr>\n",
       "  </thead>\n",
       "  <tbody>\n",
       "    <tr>\n",
       "      <th>243</th>\n",
       "      <td>FFCD2418***A</td>\n",
       "      <td>Standard</td>\n",
       "      <td>270</td>\n",
       "      <td>No</td>\n",
       "      <td>270.0</td>\n",
       "    </tr>\n",
       "    <tr>\n",
       "      <th>401</th>\n",
       "      <td>SPE53B5*UC</td>\n",
       "      <td>Standard</td>\n",
       "      <td>269</td>\n",
       "      <td>Yes</td>\n",
       "      <td>269.0</td>\n",
       "    </tr>\n",
       "    <tr>\n",
       "      <th>336</th>\n",
       "      <td>GLDW09P**A5A</td>\n",
       "      <td>Standard</td>\n",
       "      <td>255</td>\n",
       "      <td>No</td>\n",
       "      <td>255.0</td>\n",
       "    </tr>\n",
       "  </tbody>\n",
       "</table>\n",
       "</div>"
      ],
      "text/plain": [
       "     Model Number      Type  Annual Energy Use (kWh/yr) Connected Capable  \\\n",
       "243  FFCD2418***A  Standard                         270                No   \n",
       "401    SPE53B5*UC  Standard                         269               Yes   \n",
       "336  GLDW09P**A5A  Standard                         255                No   \n",
       "\n",
       "     annual_energy_use  \n",
       "243              270.0  \n",
       "401              269.0  \n",
       "336              255.0  "
      ]
     },
     "execution_count": 6,
     "metadata": {},
     "output_type": "execute_result"
    }
   ],
   "source": [
    "epa = epa_dishwasher\\\n",
    "    .assign(\n",
    "        # standardize some columns across both datasets\n",
    "        annual_energy_use = lambda x: x['Annual Energy Use (kWh/yr)'].astype(float)\n",
    "    )\n",
    "\n",
    "epa.sample(3)"
   ]
  },
  {
   "cell_type": "code",
   "execution_count": 7,
   "metadata": {},
   "outputs": [
    {
     "data": {
      "text/html": [
       "<div>\n",
       "<style scoped>\n",
       "    .dataframe tbody tr th:only-of-type {\n",
       "        vertical-align: middle;\n",
       "    }\n",
       "\n",
       "    .dataframe tbody tr th {\n",
       "        vertical-align: top;\n",
       "    }\n",
       "\n",
       "    .dataframe thead th {\n",
       "        text-align: right;\n",
       "    }\n",
       "</style>\n",
       "<table border=\"1\" class=\"dataframe\">\n",
       "  <thead>\n",
       "    <tr style=\"text-align: right;\">\n",
       "      <th></th>\n",
       "      <th>Product_Group_Code_Description_s</th>\n",
       "      <th>Basic_Model_Number_m</th>\n",
       "      <th>Individual_Model_Number_Covered_by_Basic_Model_m</th>\n",
       "      <th>Annual_Energy_Use__Kilowatt_Hours_Year__d</th>\n",
       "      <th>source</th>\n",
       "      <th>annual_energy_use</th>\n",
       "    </tr>\n",
       "  </thead>\n",
       "  <tbody>\n",
       "    <tr>\n",
       "      <th>0</th>\n",
       "      <td>Standard size dishwasher</td>\n",
       "      <td>LDP681***</td>\n",
       "      <td>LDP681***</td>\n",
       "      <td>238.0</td>\n",
       "      <td>doe</td>\n",
       "      <td>238.0</td>\n",
       "    </tr>\n",
       "    <tr>\n",
       "      <th>1</th>\n",
       "      <td>Standard size dishwasher</td>\n",
       "      <td>LDP679#**</td>\n",
       "      <td>LDP679#**</td>\n",
       "      <td>238.0</td>\n",
       "      <td>doe</td>\n",
       "      <td>238.0</td>\n",
       "    </tr>\n",
       "    <tr>\n",
       "      <th>2</th>\n",
       "      <td>Compact dishwasher</td>\n",
       "      <td>WQP6-3601-US</td>\n",
       "      <td>WQP6-3602G-US</td>\n",
       "      <td>203.0</td>\n",
       "      <td>doe</td>\n",
       "      <td>203.0</td>\n",
       "    </tr>\n",
       "  </tbody>\n",
       "</table>\n",
       "</div>"
      ],
      "text/plain": [
       "  Product_Group_Code_Description_s Basic_Model_Number_m  \\\n",
       "0         Standard size dishwasher            LDP681***   \n",
       "1         Standard size dishwasher            LDP679#**   \n",
       "2               Compact dishwasher         WQP6-3601-US   \n",
       "\n",
       "  Individual_Model_Number_Covered_by_Basic_Model_m  \\\n",
       "0                                        LDP681***   \n",
       "1                                        LDP679#**   \n",
       "2                                    WQP6-3602G-US   \n",
       "\n",
       "   Annual_Energy_Use__Kilowatt_Hours_Year__d source  annual_energy_use  \n",
       "0                                      238.0    doe              238.0  \n",
       "1                                      238.0    doe              238.0  \n",
       "2                                      203.0    doe              203.0  "
      ]
     },
     "execution_count": 7,
     "metadata": {},
     "output_type": "execute_result"
    }
   ],
   "source": [
    "doe = doe_dishwasher.assign(\n",
    "    source='doe',\n",
    "\n",
    "    # standardize some columns across both datasets\n",
    "    annual_energy_use = lambda x: x['Annual_Energy_Use__Kilowatt_Hours_Year__d'].astype(float),\n",
    ")\n",
    "\n",
    "doe.head(3)"
   ]
  },
  {
   "cell_type": "code",
   "execution_count": 8,
   "metadata": {},
   "outputs": [],
   "source": [
    "# Find all models from the EPA are in the DOE, using REGEX\n",
    "def regexify_model_number(model_number):\n",
    "    model_number_regex = re.sub(r'\\*', '.', model_number)\n",
    "    model_number_regex = re.sub(r'\\#', '.', model_number_regex)\n",
    "    return model_number_regex\n",
    "\n",
    "epa['regexed_model_no'] = epa['Model Number'].apply(regexify_model_number)\n",
    "doe['regexed_model_no'] = doe['Individual_Model_Number_Covered_by_Basic_Model_m'].apply(regexify_model_number)"
   ]
  },
  {
   "cell_type": "code",
   "execution_count": 9,
   "metadata": {},
   "outputs": [
    {
     "name": "stderr",
     "output_type": "stream",
     "text": [
      "/var/folders/sb/frfm2v8s1ndbrmv1yny_8lfh0000gn/T/ipykernel_52124/2471628229.py:2: SettingWithCopyWarning: \n",
      "A value is trying to be set on a copy of a slice from a DataFrame.\n",
      "Try using .loc[row_indexer,col_indexer] = value instead\n",
      "\n",
      "See the caveats in the documentation: https://pandas.pydata.org/pandas-docs/stable/user_guide/indexing.html#returning-a-view-versus-a-copy\n",
      "  epa_regexes['source'] = 'epa'\n"
     ]
    },
    {
     "data": {
      "text/html": [
       "<div>\n",
       "<style scoped>\n",
       "    .dataframe tbody tr th:only-of-type {\n",
       "        vertical-align: middle;\n",
       "    }\n",
       "\n",
       "    .dataframe tbody tr th {\n",
       "        vertical-align: top;\n",
       "    }\n",
       "\n",
       "    .dataframe thead th {\n",
       "        text-align: right;\n",
       "    }\n",
       "</style>\n",
       "<table border=\"1\" class=\"dataframe\">\n",
       "  <thead>\n",
       "    <tr style=\"text-align: right;\">\n",
       "      <th></th>\n",
       "      <th>regexed_model_no</th>\n",
       "      <th>source</th>\n",
       "    </tr>\n",
       "  </thead>\n",
       "  <tbody>\n",
       "    <tr>\n",
       "      <th>792</th>\n",
       "      <td>DW80N3030..</td>\n",
       "      <td>epa</td>\n",
       "    </tr>\n",
       "    <tr>\n",
       "      <th>256</th>\n",
       "      <td>GDPP4517...A</td>\n",
       "      <td>epa</td>\n",
       "    </tr>\n",
       "    <tr>\n",
       "      <th>570</th>\n",
       "      <td>KDPE244G...</td>\n",
       "      <td>epa</td>\n",
       "    </tr>\n",
       "  </tbody>\n",
       "</table>\n",
       "</div>"
      ],
      "text/plain": [
       "    regexed_model_no source\n",
       "792      DW80N3030..    epa\n",
       "256     GDPP4517...A    epa\n",
       "570      KDPE244G...    epa"
      ]
     },
     "metadata": {},
     "output_type": "display_data"
    },
    {
     "name": "stderr",
     "output_type": "stream",
     "text": [
      "/var/folders/sb/frfm2v8s1ndbrmv1yny_8lfh0000gn/T/ipykernel_52124/2471628229.py:6: SettingWithCopyWarning: \n",
      "A value is trying to be set on a copy of a slice from a DataFrame.\n",
      "Try using .loc[row_indexer,col_indexer] = value instead\n",
      "\n",
      "See the caveats in the documentation: https://pandas.pydata.org/pandas-docs/stable/user_guide/indexing.html#returning-a-view-versus-a-copy\n",
      "  doe_regexes['source'] = 'doe'\n"
     ]
    },
    {
     "data": {
      "text/html": [
       "<div>\n",
       "<style scoped>\n",
       "    .dataframe tbody tr th:only-of-type {\n",
       "        vertical-align: middle;\n",
       "    }\n",
       "\n",
       "    .dataframe tbody tr th {\n",
       "        vertical-align: top;\n",
       "    }\n",
       "\n",
       "    .dataframe thead th {\n",
       "        text-align: right;\n",
       "    }\n",
       "</style>\n",
       "<table border=\"1\" class=\"dataframe\">\n",
       "  <thead>\n",
       "    <tr style=\"text-align: right;\">\n",
       "      <th></th>\n",
       "      <th>regexed_model_no</th>\n",
       "      <th>source</th>\n",
       "    </tr>\n",
       "  </thead>\n",
       "  <tbody>\n",
       "    <tr>\n",
       "      <th>971</th>\n",
       "      <td>1457.N...</td>\n",
       "      <td>doe</td>\n",
       "    </tr>\n",
       "    <tr>\n",
       "      <th>163</th>\n",
       "      <td>SHX87PW5..</td>\n",
       "      <td>doe</td>\n",
       "    </tr>\n",
       "    <tr>\n",
       "      <th>1146</th>\n",
       "      <td>KDTE204G...</td>\n",
       "      <td>doe</td>\n",
       "    </tr>\n",
       "  </tbody>\n",
       "</table>\n",
       "</div>"
      ],
      "text/plain": [
       "     regexed_model_no source\n",
       "971         1457.N...    doe\n",
       "163        SHX87PW5..    doe\n",
       "1146      KDTE204G...    doe"
      ]
     },
     "metadata": {},
     "output_type": "display_data"
    }
   ],
   "source": [
    "epa_regexes = epa[['regexed_model_no']] \n",
    "epa_regexes['source'] = 'epa'\n",
    "display(epa_regexes.sample(3))\n",
    "\n",
    "doe_regexes = doe[['regexed_model_no']]\n",
    "doe_regexes['source'] = 'doe'\n",
    "display(doe_regexes.sample(3))"
   ]
  },
  {
   "cell_type": "code",
   "execution_count": 10,
   "metadata": {},
   "outputs": [
    {
     "data": {
      "text/html": [
       "<div>\n",
       "<style scoped>\n",
       "    .dataframe tbody tr th:only-of-type {\n",
       "        vertical-align: middle;\n",
       "    }\n",
       "\n",
       "    .dataframe tbody tr th {\n",
       "        vertical-align: top;\n",
       "    }\n",
       "\n",
       "    .dataframe thead th {\n",
       "        text-align: right;\n",
       "    }\n",
       "</style>\n",
       "<table border=\"1\" class=\"dataframe\">\n",
       "  <thead>\n",
       "    <tr style=\"text-align: right;\">\n",
       "      <th></th>\n",
       "      <th>doe_regex</th>\n",
       "      <th>Model Number</th>\n",
       "    </tr>\n",
       "  </thead>\n",
       "  <tbody>\n",
       "    <tr>\n",
       "      <th>0</th>\n",
       "      <td>LDP681...</td>\n",
       "      <td>LDP681***</td>\n",
       "    </tr>\n",
       "    <tr>\n",
       "      <th>0</th>\n",
       "      <td>LDP679...</td>\n",
       "      <td>LDP679#**</td>\n",
       "    </tr>\n",
       "    <tr>\n",
       "      <th>0</th>\n",
       "      <td>HME010393N</td>\n",
       "      <td>HME010393N</td>\n",
       "    </tr>\n",
       "    <tr>\n",
       "      <th>0</th>\n",
       "      <td>FCD06ASWWHC</td>\n",
       "      <td>FCD06ASWWHC</td>\n",
       "    </tr>\n",
       "    <tr>\n",
       "      <th>0</th>\n",
       "      <td>FCD06ABBWHA</td>\n",
       "      <td>FCD06ABBWHA</td>\n",
       "    </tr>\n",
       "    <tr>\n",
       "      <th>...</th>\n",
       "      <td>...</td>\n",
       "      <td>...</td>\n",
       "    </tr>\n",
       "    <tr>\n",
       "      <th>0</th>\n",
       "      <td>G 5056 SCVi SFP</td>\n",
       "      <td>G 5056 SCVi SFP</td>\n",
       "    </tr>\n",
       "    <tr>\n",
       "      <th>0</th>\n",
       "      <td>G 5216 SCU</td>\n",
       "      <td>G 5216 SCU</td>\n",
       "    </tr>\n",
       "    <tr>\n",
       "      <th>0</th>\n",
       "      <td>G 5266 SCVi</td>\n",
       "      <td>G 5266 SCVi SFP</td>\n",
       "    </tr>\n",
       "    <tr>\n",
       "      <th>1</th>\n",
       "      <td>G 5266 SCVi</td>\n",
       "      <td>G 5266 SCVi SF</td>\n",
       "    </tr>\n",
       "    <tr>\n",
       "      <th>2</th>\n",
       "      <td>G 5266 SCVi</td>\n",
       "      <td>G 5266 SCVi</td>\n",
       "    </tr>\n",
       "  </tbody>\n",
       "</table>\n",
       "<p>1040 rows × 2 columns</p>\n",
       "</div>"
      ],
      "text/plain": [
       "          doe_regex     Model Number\n",
       "0         LDP681...        LDP681***\n",
       "0         LDP679...        LDP679#**\n",
       "0        HME010393N       HME010393N\n",
       "0       FCD06ASWWHC      FCD06ASWWHC\n",
       "0       FCD06ABBWHA      FCD06ABBWHA\n",
       "..              ...              ...\n",
       "0   G 5056 SCVi SFP  G 5056 SCVi SFP\n",
       "0        G 5216 SCU       G 5216 SCU\n",
       "0       G 5266 SCVi  G 5266 SCVi SFP\n",
       "1       G 5266 SCVi   G 5266 SCVi SF\n",
       "2       G 5266 SCVi      G 5266 SCVi\n",
       "\n",
       "[1040 rows x 2 columns]"
      ]
     },
     "execution_count": 10,
     "metadata": {},
     "output_type": "execute_result"
    }
   ],
   "source": [
    "def matches_from_epa(model_number_pattern):\n",
    "    models = set(epa['Model Number'])\n",
    "    # get all models that match the pattern\n",
    "    matches = [(str(model_number_pattern), model) for model in models if re.match(model_number_pattern, model)]\n",
    "    return pd.DataFrame(matches, columns=['doe_regex', 'Model Number'])\n",
    "    \n",
    "doe_regex_join = pd.concat(doe_regexes.regexed_model_no.apply(matches_from_epa).tolist())\n",
    "doe_regex_join"
   ]
  },
  {
   "cell_type": "code",
   "execution_count": 11,
   "metadata": {},
   "outputs": [
    {
     "data": {
      "text/html": [
       "<div>\n",
       "<style scoped>\n",
       "    .dataframe tbody tr th:only-of-type {\n",
       "        vertical-align: middle;\n",
       "    }\n",
       "\n",
       "    .dataframe tbody tr th {\n",
       "        vertical-align: top;\n",
       "    }\n",
       "\n",
       "    .dataframe thead th {\n",
       "        text-align: right;\n",
       "    }\n",
       "</style>\n",
       "<table border=\"1\" class=\"dataframe\">\n",
       "  <thead>\n",
       "    <tr style=\"text-align: right;\">\n",
       "      <th></th>\n",
       "      <th>epa_regex</th>\n",
       "      <th>Individual_Model_Number_Covered_by_Basic_Model_m</th>\n",
       "    </tr>\n",
       "  </thead>\n",
       "  <tbody>\n",
       "    <tr>\n",
       "      <th>0</th>\n",
       "      <td>SHEM63W5..</td>\n",
       "      <td>SHEM63W5**</td>\n",
       "    </tr>\n",
       "    <tr>\n",
       "      <th>0</th>\n",
       "      <td>SHEM78W5..</td>\n",
       "      <td>SHEM78W5**</td>\n",
       "    </tr>\n",
       "    <tr>\n",
       "      <th>0</th>\n",
       "      <td>SHEM78WH..</td>\n",
       "      <td>SHEM78WH**</td>\n",
       "    </tr>\n",
       "    <tr>\n",
       "      <th>0</th>\n",
       "      <td>SHEM78Z5..</td>\n",
       "      <td>SHEM78Z5**</td>\n",
       "    </tr>\n",
       "    <tr>\n",
       "      <th>0</th>\n",
       "      <td>SHEM78ZH..</td>\n",
       "      <td>SHEM78ZH**</td>\n",
       "    </tr>\n",
       "    <tr>\n",
       "      <th>...</th>\n",
       "      <td>...</td>\n",
       "      <td>...</td>\n",
       "    </tr>\n",
       "    <tr>\n",
       "      <th>0</th>\n",
       "      <td>CRW2405SS</td>\n",
       "      <td>CRW2405SS</td>\n",
       "    </tr>\n",
       "    <tr>\n",
       "      <th>0</th>\n",
       "      <td>HDW2401BS</td>\n",
       "      <td>HDW2401BS</td>\n",
       "    </tr>\n",
       "    <tr>\n",
       "      <th>0</th>\n",
       "      <td>HDW2401SS</td>\n",
       "      <td>HDW2401SS</td>\n",
       "    </tr>\n",
       "    <tr>\n",
       "      <th>0</th>\n",
       "      <td>TKW2401U</td>\n",
       "      <td>TKW2401U</td>\n",
       "    </tr>\n",
       "    <tr>\n",
       "      <th>0</th>\n",
       "      <td>HDW2401SS</td>\n",
       "      <td>HDW2401SS</td>\n",
       "    </tr>\n",
       "  </tbody>\n",
       "</table>\n",
       "<p>727 rows × 2 columns</p>\n",
       "</div>"
      ],
      "text/plain": [
       "     epa_regex Individual_Model_Number_Covered_by_Basic_Model_m\n",
       "0   SHEM63W5..                                       SHEM63W5**\n",
       "0   SHEM78W5..                                       SHEM78W5**\n",
       "0   SHEM78WH..                                       SHEM78WH**\n",
       "0   SHEM78Z5..                                       SHEM78Z5**\n",
       "0   SHEM78ZH..                                       SHEM78ZH**\n",
       "..         ...                                              ...\n",
       "0    CRW2405SS                                        CRW2405SS\n",
       "0    HDW2401BS                                        HDW2401BS\n",
       "0    HDW2401SS                                        HDW2401SS\n",
       "0     TKW2401U                                         TKW2401U\n",
       "0    HDW2401SS                                        HDW2401SS\n",
       "\n",
       "[727 rows x 2 columns]"
      ]
     },
     "execution_count": 11,
     "metadata": {},
     "output_type": "execute_result"
    }
   ],
   "source": [
    "def matches_from_doe(model_number_pattern):\n",
    "    models = set(doe['Individual_Model_Number_Covered_by_Basic_Model_m'])\n",
    "    # get all models that match the pattern\n",
    "    matches = [(str(model_number_pattern), model) for model in models if re.match(model_number_pattern, model)]\n",
    "    return pd.DataFrame(matches, columns=['epa_regex', 'Individual_Model_Number_Covered_by_Basic_Model_m'])\n",
    "    \n",
    "epa_regex_join = pd.concat(epa_regexes.regexed_model_no.apply(matches_from_doe).tolist())\n",
    "epa_regex_join"
   ]
  },
  {
   "cell_type": "code",
   "execution_count": 12,
   "metadata": {},
   "outputs": [
    {
     "data": {
      "text/plain": [
       "exists_in_other_db\n",
       "True     1038\n",
       "False     202\n",
       "Name: count, dtype: int64"
      ]
     },
     "execution_count": 12,
     "metadata": {},
     "output_type": "execute_result"
    }
   ],
   "source": [
    "doe['exists_in_other_db'] = doe.apply(lambda row: \n",
    "                                                    row['regexed_model_no'] in doe_regex_join['doe_regex'].values or \n",
    "                                                    row['Individual_Model_Number_Covered_by_Basic_Model_m'] in epa_regex_join['Individual_Model_Number_Covered_by_Basic_Model_m'].values,\n",
    "                                               axis=1)\n",
    "                                             \n",
    "doe.exists_in_other_db.value_counts()"
   ]
  },
  {
   "cell_type": "code",
   "execution_count": 13,
   "metadata": {},
   "outputs": [],
   "source": [
    "doe_minus_epa = doe[~doe['exists_in_other_db']]"
   ]
  },
  {
   "cell_type": "markdown",
   "metadata": {},
   "source": [
    "# Energy Usage Analysis"
   ]
  },
  {
   "cell_type": "code",
   "execution_count": 14,
   "metadata": {},
   "outputs": [],
   "source": [
    "epa_standard = epa_dishwasher[epa_dishwasher[\"Type\"] == \"Standard\"]\n",
    "epa_compact = epa_dishwasher[epa_dishwasher[\"Type\"] == \"Compact\"]\n",
    "\n",
    "doe_mepa_standard = doe_minus_epa[doe_minus_epa[\"Product_Group_Code_Description_s\"] == \"Standard size dishwasher\"]\n",
    "doe_mepa_compact = doe_minus_epa[doe_minus_epa[\"Product_Group_Code_Description_s\"] == \"Compact dishwasher\"]"
   ]
  },
  {
   "cell_type": "code",
   "execution_count": 15,
   "metadata": {},
   "outputs": [
    {
     "data": {
      "text/html": [
       "<div>\n",
       "<style scoped>\n",
       "    .dataframe tbody tr th:only-of-type {\n",
       "        vertical-align: middle;\n",
       "    }\n",
       "\n",
       "    .dataframe tbody tr th {\n",
       "        vertical-align: top;\n",
       "    }\n",
       "\n",
       "    .dataframe thead th {\n",
       "        text-align: right;\n",
       "    }\n",
       "</style>\n",
       "<table border=\"1\" class=\"dataframe\">\n",
       "  <thead>\n",
       "    <tr style=\"text-align: right;\">\n",
       "      <th></th>\n",
       "      <th>Model Number</th>\n",
       "      <th>Type</th>\n",
       "      <th>Annual Energy Use (kWh/yr)</th>\n",
       "      <th>Connected Capable</th>\n",
       "    </tr>\n",
       "  </thead>\n",
       "  <tbody>\n",
       "    <tr>\n",
       "      <th>0</th>\n",
       "      <td>SHEM63W5**</td>\n",
       "      <td>Standard</td>\n",
       "      <td>269</td>\n",
       "      <td>No</td>\n",
       "    </tr>\n",
       "  </tbody>\n",
       "</table>\n",
       "</div>"
      ],
      "text/plain": [
       "  Model Number      Type  Annual Energy Use (kWh/yr) Connected Capable\n",
       "0   SHEM63W5**  Standard                         269                No"
      ]
     },
     "execution_count": 15,
     "metadata": {},
     "output_type": "execute_result"
    }
   ],
   "source": [
    "epa_standard.head(1)"
   ]
  },
  {
   "cell_type": "code",
   "execution_count": 16,
   "metadata": {},
   "outputs": [
    {
     "data": {
      "text/html": [
       "<div>\n",
       "<style scoped>\n",
       "    .dataframe tbody tr th:only-of-type {\n",
       "        vertical-align: middle;\n",
       "    }\n",
       "\n",
       "    .dataframe tbody tr th {\n",
       "        vertical-align: top;\n",
       "    }\n",
       "\n",
       "    .dataframe thead th {\n",
       "        text-align: right;\n",
       "    }\n",
       "</style>\n",
       "<table border=\"1\" class=\"dataframe\">\n",
       "  <thead>\n",
       "    <tr style=\"text-align: right;\">\n",
       "      <th></th>\n",
       "      <th>Product_Group_Code_Description_s</th>\n",
       "      <th>Basic_Model_Number_m</th>\n",
       "      <th>Individual_Model_Number_Covered_by_Basic_Model_m</th>\n",
       "      <th>Annual_Energy_Use__Kilowatt_Hours_Year__d</th>\n",
       "      <th>source</th>\n",
       "      <th>annual_energy_use</th>\n",
       "      <th>regexed_model_no</th>\n",
       "      <th>exists_in_other_db</th>\n",
       "    </tr>\n",
       "  </thead>\n",
       "  <tbody>\n",
       "    <tr>\n",
       "      <th>43</th>\n",
       "      <td>Standard size dishwasher</td>\n",
       "      <td>WQP8-7740-US</td>\n",
       "      <td>DW1831D0WE</td>\n",
       "      <td>234.0</td>\n",
       "      <td>doe</td>\n",
       "      <td>234.0</td>\n",
       "      <td>DW1831D0WE</td>\n",
       "      <td>False</td>\n",
       "    </tr>\n",
       "  </tbody>\n",
       "</table>\n",
       "</div>"
      ],
      "text/plain": [
       "   Product_Group_Code_Description_s Basic_Model_Number_m  \\\n",
       "43         Standard size dishwasher         WQP8-7740-US   \n",
       "\n",
       "   Individual_Model_Number_Covered_by_Basic_Model_m  \\\n",
       "43                                       DW1831D0WE   \n",
       "\n",
       "    Annual_Energy_Use__Kilowatt_Hours_Year__d source  annual_energy_use  \\\n",
       "43                                      234.0    doe              234.0   \n",
       "\n",
       "   regexed_model_no  exists_in_other_db  \n",
       "43       DW1831D0WE               False  "
      ]
     },
     "execution_count": 16,
     "metadata": {},
     "output_type": "execute_result"
    }
   ],
   "source": [
    "doe_mepa_standard.head(1)"
   ]
  },
  {
   "cell_type": "markdown",
   "metadata": {},
   "source": [
    "## Standard Dishwashers"
   ]
  },
  {
   "cell_type": "code",
   "execution_count": 17,
   "metadata": {},
   "outputs": [
    {
     "name": "stdout",
     "output_type": "stream",
     "text": [
      "The average energy usage for Energy Star certified standard dishwashers is 253.58 kWh/yr\n"
     ]
    },
    {
     "data": {
      "text/plain": [
       "count    956.000000\n",
       "mean     253.582636\n",
       "std       16.869144\n",
       "min      199.000000\n",
       "25%      240.000000\n",
       "50%      260.000000\n",
       "75%      270.000000\n",
       "max      270.000000\n",
       "Name: Annual Energy Use (kWh/yr), dtype: float64"
      ]
     },
     "metadata": {},
     "output_type": "display_data"
    },
    {
     "name": "stdout",
     "output_type": "stream",
     "text": [
      "The average energy usage for Non-Energy Star certified standard dishwashers is 267.99 kWh/yr\n"
     ]
    },
    {
     "data": {
      "text/plain": [
       "count    174.000000\n",
       "mean     267.988506\n",
       "std       18.712608\n",
       "min      221.000000\n",
       "25%      259.000000\n",
       "50%      269.000000\n",
       "75%      270.000000\n",
       "max      307.000000\n",
       "Name: Annual_Energy_Use__Kilowatt_Hours_Year__d, dtype: float64"
      ]
     },
     "metadata": {},
     "output_type": "display_data"
    }
   ],
   "source": [
    "print(f\"The average energy usage for Energy Star certified standard dishwashers is {epa_standard['Annual Energy Use (kWh/yr)'].mean():.2f} kWh/yr\")\n",
    "display(epa_standard['Annual Energy Use (kWh/yr)'].describe())\n",
    "\n",
    "print(f\"The average energy usage for Non-Energy Star certified standard dishwashers is {doe_mepa_standard['Annual_Energy_Use__Kilowatt_Hours_Year__d'].mean():.2f} kWh/yr\")\n",
    "display(doe_mepa_standard['Annual_Energy_Use__Kilowatt_Hours_Year__d'].describe())"
   ]
  },
  {
   "cell_type": "code",
   "execution_count": 18,
   "metadata": {},
   "outputs": [
    {
     "data": {
      "text/plain": [
       "<Axes: >"
      ]
     },
     "metadata": {},
     "output_type": "display_data"
    },
    {
     "data": {
      "text/plain": [
       "<Axes: >"
      ]
     },
     "metadata": {},
     "output_type": "display_data"
    },
    {
     "data": {
      "text/plain": [
       "<matplotlib.lines.Line2D at 0x145d1ea40>"
      ]
     },
     "execution_count": 18,
     "metadata": {},
     "output_type": "execute_result"
    },
    {
     "data": {
      "image/png": "[encoded data removed]",
      "text/plain": [
       "<Figure size 1600x800 with 1 Axes>"
      ]
     },
     "metadata": {},
     "output_type": "display_data"
    }
   ],
   "source": [
    "# Plot energy usage for standard dishwashers\n",
    "display(doe_mepa_standard['Annual_Energy_Use__Kilowatt_Hours_Year__d'].hist(bins=50, figsize=(16, 8), color='red', alpha=0.4, label='DOE'))\n",
    "display(epa_standard['Annual Energy Use (kWh/yr)'].hist(bins=50, figsize=(16, 8), color='green', alpha=0.4, label='EPA'))\n",
    "\n",
    "# Add title\n",
    "plt.title('Energy Usage for Standard Dishwashers')\n",
    "\n",
    "# Add legend\n",
    "plt.legend()\n",
    "\n",
    "# Add average lines\n",
    "plt.axvline(doe_mepa_standard['Annual_Energy_Use__Kilowatt_Hours_Year__d'].mean(), color='red', linestyle='dashed', linewidth=1)\n",
    "plt.axvline(epa_standard['Annual Energy Use (kWh/yr)'].mean(), color='green', linestyle='dashed', linewidth=1)\n",
    "\n"
   ]
  },
  {
   "cell_type": "markdown",
   "metadata": {},
   "source": [
    "## Compact Dishwashers"
   ]
  },
  {
   "cell_type": "code",
   "execution_count": 19,
   "metadata": {},
   "outputs": [
    {
     "name": "stdout",
     "output_type": "stream",
     "text": [
      "The average energy usage for Energy Star certified compact dishwashers is 182.96 kWh/yr\n"
     ]
    },
    {
     "data": {
      "text/plain": [
       "count     51.000000\n",
       "mean     182.960784\n",
       "std       26.933222\n",
       "min      113.000000\n",
       "25%      155.000000\n",
       "50%      203.000000\n",
       "75%      203.000000\n",
       "max      203.000000\n",
       "Name: Annual Energy Use (kWh/yr), dtype: float64"
      ]
     },
     "metadata": {},
     "output_type": "display_data"
    },
    {
     "name": "stdout",
     "output_type": "stream",
     "text": [
      "The average energy usage for Non-Energy Star certified compact dishwashers is 171.07 kWh/yr\n"
     ]
    },
    {
     "data": {
      "text/plain": [
       "count     28.000000\n",
       "mean     171.071429\n",
       "std       42.442055\n",
       "min      113.000000\n",
       "25%      130.000000\n",
       "50%      186.000000\n",
       "75%      206.000000\n",
       "max      222.000000\n",
       "Name: Annual_Energy_Use__Kilowatt_Hours_Year__d, dtype: float64"
      ]
     },
     "metadata": {},
     "output_type": "display_data"
    }
   ],
   "source": [
    "print(f\"The average energy usage for Energy Star certified compact dishwashers is {epa_compact['Annual Energy Use (kWh/yr)'].mean():.2f} kWh/yr\")\n",
    "display(epa_compact['Annual Energy Use (kWh/yr)'].describe())\n",
    "\n",
    "print(f\"The average energy usage for Non-Energy Star certified compact dishwashers is {doe_mepa_compact['Annual_Energy_Use__Kilowatt_Hours_Year__d'].mean():.2f} kWh/yr\")\n",
    "display(doe_mepa_compact['Annual_Energy_Use__Kilowatt_Hours_Year__d'].describe())"
   ]
  },
  {
   "cell_type": "code",
   "execution_count": 20,
   "metadata": {},
   "outputs": [
    {
     "data": {
      "text/plain": [
       "<Axes: >"
      ]
     },
     "metadata": {},
     "output_type": "display_data"
    },
    {
     "data": {
      "text/plain": [
       "<Axes: >"
      ]
     },
     "metadata": {},
     "output_type": "display_data"
    },
    {
     "data": {
      "text/plain": [
       "<matplotlib.lines.Line2D at 0x145d9ed10>"
      ]
     },
     "execution_count": 20,
     "metadata": {},
     "output_type": "execute_result"
    },
    {
     "data": {
      "image/png": "[encoded data removed]",
      "text/plain": [
       "<Figure size 1600x800 with 1 Axes>"
      ]
     },
     "metadata": {},
     "output_type": "display_data"
    }
   ],
   "source": [
    "# Plot energy usage for compact dishwashers\n",
    "display(doe_mepa_compact['Annual_Energy_Use__Kilowatt_Hours_Year__d'].hist(bins=50, figsize=(16, 8), color='red', alpha=0.4, label='DOE'))\n",
    "display(epa_compact['Annual Energy Use (kWh/yr)'].hist(bins=50, figsize=(16, 8), color='green', alpha=0.4, label='EPA'))\n",
    "\n",
    "# Add title\n",
    "plt.title('Energy Usage for Compact Dishwashers')\n",
    "\n",
    "# Add legend\n",
    "plt.legend()\n",
    "\n",
    "# Add average lines\n",
    "plt.axvline(doe_mepa_compact['Annual_Energy_Use__Kilowatt_Hours_Year__d'].mean(), color='red', linestyle='dashed', linewidth=1)\n",
    "plt.axvline(epa_compact['Annual Energy Use (kWh/yr)'].mean(), color='green', linestyle='dashed', linewidth=1)"
   ]
  },
  {
   "cell_type": "markdown",
   "metadata": {},
   "source": [
    "# Room AC Analysis"
   ]
  },
  {
   "cell_type": "code",
   "execution_count": 21,
   "metadata": {},
   "outputs": [],
   "source": [
    "epa_room_ac = pd.read_csv(\"input_data/epa_room_ac.csv\")\n",
    "doe_room_ac = pd.read_csv(\"input_data/doe_room_ac.csv\")"
   ]
  },
  {
   "cell_type": "code",
   "execution_count": 22,
   "metadata": {},
   "outputs": [
    {
     "data": {
      "text/plain": [
       "(1323, 38)"
      ]
     },
     "metadata": {},
     "output_type": "display_data"
    }
   ],
   "source": [
    "epa_room_ac.head(1)\n",
    "\n",
    "display(epa_room_ac.shape)"
   ]
  },
  {
   "cell_type": "code",
   "execution_count": 23,
   "metadata": {},
   "outputs": [
    {
     "data": {
      "text/html": [
       "<div>\n",
       "<style scoped>\n",
       "    .dataframe tbody tr th:only-of-type {\n",
       "        vertical-align: middle;\n",
       "    }\n",
       "\n",
       "    .dataframe tbody tr th {\n",
       "        vertical-align: top;\n",
       "    }\n",
       "\n",
       "    .dataframe thead th {\n",
       "        text-align: right;\n",
       "    }\n",
       "</style>\n",
       "<table border=\"1\" class=\"dataframe\">\n",
       "  <thead>\n",
       "    <tr style=\"text-align: right;\">\n",
       "      <th></th>\n",
       "      <th>Brand_Name_s__s</th>\n",
       "      <th>Product_Group_Code_Description_s</th>\n",
       "      <th>Basic_Model_Number_m</th>\n",
       "      <th>Individual_Model_Number_Covered_by_Basic_Model_m</th>\n",
       "      <th>Cooling_Capacity__BTU_Hour__d</th>\n",
       "      <th>Electrical_Power_Input__Watts__d</th>\n",
       "      <th>Combined_Energy_Efficiency_Ratio_d</th>\n",
       "      <th>Is_the_Certification_for_this_Basic_Model_Based_on_a_Waiver_of_DOE_s_Test_Procedure_Requirements__s</th>\n",
       "      <th>Is_the_Certification_based_upon_any_Exception_Relief_from_an_Applicable_Standard_by_DOE_s_Office_of_Hearing_and_Appeals__s</th>\n",
       "      <th>Link_to_FTC_EnergyGuide_Label_s</th>\n",
       "    </tr>\n",
       "  </thead>\n",
       "  <tbody>\n",
       "    <tr>\n",
       "      <th>0</th>\n",
       "      <td>Midea</td>\n",
       "      <td>(11) With reverse cycle, with louvered sides, ...</td>\n",
       "      <td>MWCUPWHP-09HEFN8-BCL1</td>\n",
       "      <td>MWCUPWHP-09HEFN8-BCL1</td>\n",
       "      <td>9000.0</td>\n",
       "      <td>760.0</td>\n",
       "      <td>16.0</td>\n",
       "      <td>No</td>\n",
       "      <td>No</td>\n",
       "      <td>By annual report date</td>\n",
       "    </tr>\n",
       "  </tbody>\n",
       "</table>\n",
       "</div>"
      ],
      "text/plain": [
       "  Brand_Name_s__s                   Product_Group_Code_Description_s  \\\n",
       "0           Midea  (11) With reverse cycle, with louvered sides, ...   \n",
       "\n",
       "    Basic_Model_Number_m Individual_Model_Number_Covered_by_Basic_Model_m  \\\n",
       "0  MWCUPWHP-09HEFN8-BCL1                            MWCUPWHP-09HEFN8-BCL1   \n",
       "\n",
       "   Cooling_Capacity__BTU_Hour__d  Electrical_Power_Input__Watts__d  \\\n",
       "0                         9000.0                             760.0   \n",
       "\n",
       "   Combined_Energy_Efficiency_Ratio_d  \\\n",
       "0                                16.0   \n",
       "\n",
       "  Is_the_Certification_for_this_Basic_Model_Based_on_a_Waiver_of_DOE_s_Test_Procedure_Requirements__s  \\\n",
       "0                                                 No                                                    \n",
       "\n",
       "  Is_the_Certification_based_upon_any_Exception_Relief_from_an_Applicable_Standard_by_DOE_s_Office_of_Hearing_and_Appeals__s  \\\n",
       "0                                                 No                                                                           \n",
       "\n",
       "  Link_to_FTC_EnergyGuide_Label_s  \n",
       "0           By annual report date  "
      ]
     },
     "execution_count": 23,
     "metadata": {},
     "output_type": "execute_result"
    }
   ],
   "source": [
    "doe_room_ac.head(1)"
   ]
  },
  {
   "cell_type": "code",
   "execution_count": 24,
   "metadata": {},
   "outputs": [
    {
     "data": {
      "text/html": [
       "<div>\n",
       "<style scoped>\n",
       "    .dataframe tbody tr th:only-of-type {\n",
       "        vertical-align: middle;\n",
       "    }\n",
       "\n",
       "    .dataframe tbody tr th {\n",
       "        vertical-align: top;\n",
       "    }\n",
       "\n",
       "    .dataframe thead th {\n",
       "        text-align: right;\n",
       "    }\n",
       "</style>\n",
       "<table border=\"1\" class=\"dataframe\">\n",
       "  <thead>\n",
       "    <tr style=\"text-align: right;\">\n",
       "      <th></th>\n",
       "      <th>Brand_Name_s__s</th>\n",
       "      <th>Product_Group_Code_Description_s</th>\n",
       "      <th>Basic_Model_Number_m</th>\n",
       "      <th>Individual_Model_Number_Covered_by_Basic_Model_m</th>\n",
       "      <th>Cooling_Capacity__BTU_Hour__d</th>\n",
       "      <th>Electrical_Power_Input__Watts__d</th>\n",
       "      <th>Combined_Energy_Efficiency_Ratio_d</th>\n",
       "      <th>Is_the_Certification_for_this_Basic_Model_Based_on_a_Waiver_of_DOE_s_Test_Procedure_Requirements__s</th>\n",
       "      <th>Is_the_Certification_based_upon_any_Exception_Relief_from_an_Applicable_Standard_by_DOE_s_Office_of_Hearing_and_Appeals__s</th>\n",
       "      <th>Link_to_FTC_EnergyGuide_Label_s</th>\n",
       "    </tr>\n",
       "  </thead>\n",
       "  <tbody>\n",
       "    <tr>\n",
       "      <th>1169</th>\n",
       "      <td>Danby</td>\n",
       "      <td>(3) Without reverse cycle, with louvered sides...</td>\n",
       "      <td>DAC100EB9WDB</td>\n",
       "      <td>DAC100EB9WDB</td>\n",
       "      <td>10000.0</td>\n",
       "      <td>810.0</td>\n",
       "      <td>12.0</td>\n",
       "      <td>No</td>\n",
       "      <td>No</td>\n",
       "      <td>https://www.danby.com/en-us/product-resources/</td>\n",
       "    </tr>\n",
       "  </tbody>\n",
       "</table>\n",
       "</div>"
      ],
      "text/plain": [
       "     Brand_Name_s__s                   Product_Group_Code_Description_s  \\\n",
       "1169           Danby  (3) Without reverse cycle, with louvered sides...   \n",
       "\n",
       "     Basic_Model_Number_m Individual_Model_Number_Covered_by_Basic_Model_m  \\\n",
       "1169         DAC100EB9WDB                                     DAC100EB9WDB   \n",
       "\n",
       "      Cooling_Capacity__BTU_Hour__d  Electrical_Power_Input__Watts__d  \\\n",
       "1169                        10000.0                             810.0   \n",
       "\n",
       "      Combined_Energy_Efficiency_Ratio_d  \\\n",
       "1169                                12.0   \n",
       "\n",
       "     Is_the_Certification_for_this_Basic_Model_Based_on_a_Waiver_of_DOE_s_Test_Procedure_Requirements__s  \\\n",
       "1169                                                 No                                                    \n",
       "\n",
       "     Is_the_Certification_based_upon_any_Exception_Relief_from_an_Applicable_Standard_by_DOE_s_Office_of_Hearing_and_Appeals__s  \\\n",
       "1169                                                 No                                                                           \n",
       "\n",
       "                     Link_to_FTC_EnergyGuide_Label_s  \n",
       "1169  https://www.danby.com/en-us/product-resources/  "
      ]
     },
     "execution_count": 24,
     "metadata": {},
     "output_type": "execute_result"
    }
   ],
   "source": [
    "doe_room_ac.query(\"Individual_Model_Number_Covered_by_Basic_Model_m == 'DAC100EB9WDB'\")"
   ]
  },
  {
   "cell_type": "code",
   "execution_count": 25,
   "metadata": {},
   "outputs": [],
   "source": [
    "epa_room_ac = epa_room_ac[[\n",
    "    'Model Number',\n",
    "    'Type',\n",
    "    'Annual Energy Use (kWh/yr)',\n",
    "]].drop_duplicates()\n",
    "\n",
    "doe_room_ac = doe_room_ac[[\n",
    "    'Product_Group_Code_Description_s',\n",
    "    'Basic_Model_Number_m',\n",
    "    'Individual_Model_Number_Covered_by_Basic_Model_m'\n",
    "]].drop_duplicates()"
   ]
  },
  {
   "cell_type": "code",
   "execution_count": 26,
   "metadata": {},
   "outputs": [
    {
     "name": "stdout",
     "output_type": "stream",
     "text": [
      "(1230, 3)\n",
      "(1837, 3)\n"
     ]
    }
   ],
   "source": [
    "print(epa_room_ac.shape)\n",
    "print(doe_room_ac.shape)"
   ]
  },
  {
   "cell_type": "code",
   "execution_count": 27,
   "metadata": {},
   "outputs": [
    {
     "name": "stdout",
     "output_type": "stream",
     "text": [
      "66.96% \n"
     ]
    }
   ],
   "source": [
    "print(f\"{len(epa_room_ac)/len(doe_room_ac):.2%} \")"
   ]
  }
 ],
 "metadata": {
  "kernelspec": {
   "display_name": "Python 3",
   "language": "python",
   "name": "python3"
  },
  "language_info": {
   "codemirror_mode": {
    "name": "ipython",
    "version": 3
   },
   "file_extension": ".py",
   "mimetype": "text/x-python",
   "name": "python",
   "nbconvert_exporter": "python",
   "pygments_lexer": "ipython3",
   "version": "3.10.11"
  },
  "orig_nbformat": 4
 },
 "nbformat": 4,
 "nbformat_minor": 2
}
