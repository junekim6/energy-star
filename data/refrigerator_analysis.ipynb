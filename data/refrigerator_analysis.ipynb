{
 "cells": [
  {
   "attachments": {},
   "cell_type": "markdown",
   "metadata": {},
   "source": [
    "### Notebook Setup"
   ]
  },
  {
   "cell_type": "code",
   "execution_count": 1,
   "metadata": {},
   "outputs": [],
   "source": [
    "%load_ext rpy2.ipython\n",
    "%load_ext autoreload\n",
    "%autoreload 2\n",
    "\n",
    "%matplotlib inline  \n",
    "from matplotlib import rcParams\n",
    "rcParams['figure.figsize'] = (16, 100)\n",
    "\n",
    "import warnings\n",
    "from rpy2.rinterface import RRuntimeWarning\n",
    "warnings.filterwarnings(\"ignore\") # Ignore all warnings\n",
    "# warnings.filterwarnings(\"ignore\", category=RRuntimeWarning) # Show some warnings\n",
    "\n",
    "import pandas as pd\n",
    "import numpy as np\n",
    "import matplotlib.pyplot as plt\n",
    "import re\n",
    "from IPython.display import display, HTML"
   ]
  },
  {
   "cell_type": "code",
   "execution_count": 2,
   "metadata": {},
   "outputs": [
    {
     "data": {
      "application/javascript": "// Disable auto-scrolling\nIPython.OutputArea.prototype._should_scroll = function(lines) {\n    return false;\n}\n",
      "text/plain": [
       "<IPython.core.display.Javascript object>"
      ]
     },
     "metadata": {},
     "output_type": "display_data"
    }
   ],
   "source": [
    "%%javascript\n",
    "// Disable auto-scrolling\n",
    "IPython.OutputArea.prototype._should_scroll = function(lines) {\n",
    "    return false;\n",
    "}"
   ]
  },
  {
   "cell_type": "code",
   "execution_count": 3,
   "metadata": {},
   "outputs": [
    {
     "data": {
      "text/plain": [
       "필요한 패키지를 로딩중입니다: ggplot2\n",
       "필요한 패키지를 로딩중입니다: readr\n",
       "필요한 패키지를 로딩중입니다: extrafont\n",
       "Registering fonts with R\n",
       "필요한 패키지를 로딩중입니다: dplyr\n",
       "\n",
       "다음의 패키지를 부착합니다: ‘dplyr’\n",
       "\n",
       "The following objects are masked from ‘package:stats’:\n",
       "\n",
       "    filter, lag\n",
       "\n",
       "The following objects are masked from ‘package:base’:\n",
       "\n",
       "    intersect, setdiff, setequal, union\n",
       "\n",
       "필요한 패키지를 로딩중입니다: reshape2\n"
      ]
     },
     "metadata": {},
     "output_type": "display_data"
    }
   ],
   "source": [
    "%%R\n",
    "\n",
    "# My commonly used R imports\n",
    "\n",
    "require('ggplot2')\n",
    "require('readr')\n",
    "require('extrafont')\n",
    "require('dplyr')\n",
    "require('reshape2')\n",
    "# require('theme538')"
   ]
  },
  {
   "cell_type": "code",
   "execution_count": 4,
   "metadata": {},
   "outputs": [],
   "source": [
    "# set maximum number of columns to display\n",
    "pd.set_option('display.max_columns', None)"
   ]
  },
  {
   "attachments": {},
   "cell_type": "markdown",
   "metadata": {},
   "source": [
    "# Read in Data And Drop Duplicates"
   ]
  },
  {
   "cell_type": "code",
   "execution_count": 40,
   "metadata": {},
   "outputs": [],
   "source": [
    "epa_ref = pd.read_csv('epa_residential_refrigerators.csv', dtype={'ENERGY STAR Unique ID': str}).drop_duplicates()\n",
    "epa_ref = epa_ref[[\n",
    "    # 'Brand Name',\n",
    "    'Product Class',\n",
    "    'Model Number',\n",
    "    'Annual Energy Use (kWh/yr)',\n",
    "    'Adjusted Volume (ft3)',\n",
    "    'Compact'\n",
    "]].drop_duplicates()\n",
    "\n",
    "epa_freeze =  pd.read_csv('epa_residential_freezers.csv', dtype={'ENERGY STAR Unique ID': str}).drop_duplicates()\n",
    "epa_freeze = epa_freeze[[\n",
    "    # 'Brand Name',\n",
    "    'Product Class',\n",
    "    'Model Number',\n",
    "    'Annual Energy Use (kWh/yr)',\n",
    "    'Adjusted Volume (ft3)',\n",
    "    'Compact'\n",
    "]].drop_duplicates()\n",
    "\n",
    "doe_ref = pd.read_csv('doe-refrigerator.csv').drop(columns=['Link_to_FTC_EnergyGuide_Label_s']).drop_duplicates()\n",
    "doe_ref = doe_ref[[\n",
    "    'Basic_Model_Number_m',\n",
    "    'Individual_Model_Number_Covered_by_Basic_Model_m',\n",
    "    'Annual_Energy_Use__Kilowatt_Hours_Year__d',\n",
    "    'Total_Adjusted_Volume__Cubic_Feet__d',\n",
    "    'Product_Group_Code_Description_s'\n",
    "]].drop_duplicates()\n",
    "\n",
    "# doe_ref"
   ]
  },
  {
   "cell_type": "code",
   "execution_count": 41,
   "metadata": {},
   "outputs": [
    {
     "name": "stdout",
     "output_type": "stream",
     "text": [
      "There are (3390, 5) items in epa_ref. Here are the columns:\n"
     ]
    },
    {
     "data": {
      "text/html": [
       "<div>\n",
       "<style scoped>\n",
       "    .dataframe tbody tr th:only-of-type {\n",
       "        vertical-align: middle;\n",
       "    }\n",
       "\n",
       "    .dataframe tbody tr th {\n",
       "        vertical-align: top;\n",
       "    }\n",
       "\n",
       "    .dataframe thead th {\n",
       "        text-align: right;\n",
       "    }\n",
       "</style>\n",
       "<table border=\"1\" class=\"dataframe\">\n",
       "  <thead>\n",
       "    <tr style=\"text-align: right;\">\n",
       "      <th></th>\n",
       "      <th>Product Class</th>\n",
       "      <th>Model Number</th>\n",
       "      <th>Annual Energy Use (kWh/yr)</th>\n",
       "      <th>Adjusted Volume (ft3)</th>\n",
       "      <th>Compact</th>\n",
       "    </tr>\n",
       "  </thead>\n",
       "  <tbody>\n",
       "    <tr>\n",
       "      <th>0</th>\n",
       "      <td>3 - Refrigerator-freezers - automatic defrost ...</td>\n",
       "      <td>2ATMW212E</td>\n",
       "      <td>396</td>\n",
       "      <td>25.6</td>\n",
       "      <td>No</td>\n",
       "    </tr>\n",
       "  </tbody>\n",
       "</table>\n",
       "</div>"
      ],
      "text/plain": [
       "                                       Product Class Model Number  \\\n",
       "0  3 - Refrigerator-freezers - automatic defrost ...    2ATMW212E   \n",
       "\n",
       "   Annual Energy Use (kWh/yr)  Adjusted Volume (ft3) Compact  \n",
       "0                         396                   25.6      No  "
      ]
     },
     "metadata": {},
     "output_type": "display_data"
    },
    {
     "name": "stdout",
     "output_type": "stream",
     "text": [
      "There are (396, 5) items in epa_freeze. Here are the columns:\n"
     ]
    },
    {
     "data": {
      "text/html": [
       "<div>\n",
       "<style scoped>\n",
       "    .dataframe tbody tr th:only-of-type {\n",
       "        vertical-align: middle;\n",
       "    }\n",
       "\n",
       "    .dataframe tbody tr th {\n",
       "        vertical-align: top;\n",
       "    }\n",
       "\n",
       "    .dataframe thead th {\n",
       "        text-align: right;\n",
       "    }\n",
       "</style>\n",
       "<table border=\"1\" class=\"dataframe\">\n",
       "  <thead>\n",
       "    <tr style=\"text-align: right;\">\n",
       "      <th></th>\n",
       "      <th>Product Class</th>\n",
       "      <th>Model Number</th>\n",
       "      <th>Annual Energy Use (kWh/yr)</th>\n",
       "      <th>Adjusted Volume (ft3)</th>\n",
       "      <th>Compact</th>\n",
       "    </tr>\n",
       "  </thead>\n",
       "  <tbody>\n",
       "    <tr>\n",
       "      <th>0</th>\n",
       "      <td>8 - Upright freezers with manual defrost</td>\n",
       "      <td>DUFM085A3*</td>\n",
       "      <td>247</td>\n",
       "      <td>15.0</td>\n",
       "      <td>No</td>\n",
       "    </tr>\n",
       "  </tbody>\n",
       "</table>\n",
       "</div>"
      ],
      "text/plain": [
       "                              Product Class Model Number  \\\n",
       "0  8 - Upright freezers with manual defrost   DUFM085A3*   \n",
       "\n",
       "   Annual Energy Use (kWh/yr)  Adjusted Volume (ft3) Compact  \n",
       "0                         247                   15.0      No  "
      ]
     },
     "metadata": {},
     "output_type": "display_data"
    },
    {
     "name": "stdout",
     "output_type": "stream",
     "text": [
      "There are (9067, 5) items in doe_ref. Here are the columns:\n"
     ]
    },
    {
     "data": {
      "text/html": [
       "<div>\n",
       "<style scoped>\n",
       "    .dataframe tbody tr th:only-of-type {\n",
       "        vertical-align: middle;\n",
       "    }\n",
       "\n",
       "    .dataframe tbody tr th {\n",
       "        vertical-align: top;\n",
       "    }\n",
       "\n",
       "    .dataframe thead th {\n",
       "        text-align: right;\n",
       "    }\n",
       "</style>\n",
       "<table border=\"1\" class=\"dataframe\">\n",
       "  <thead>\n",
       "    <tr style=\"text-align: right;\">\n",
       "      <th></th>\n",
       "      <th>Basic_Model_Number_m</th>\n",
       "      <th>Individual_Model_Number_Covered_by_Basic_Model_m</th>\n",
       "      <th>Annual_Energy_Use__Kilowatt_Hours_Year__d</th>\n",
       "      <th>Total_Adjusted_Volume__Cubic_Feet__d</th>\n",
       "      <th>Product_Group_Code_Description_s</th>\n",
       "    </tr>\n",
       "  </thead>\n",
       "  <tbody>\n",
       "    <tr>\n",
       "      <th>0</th>\n",
       "      <td>HS-60LN(SNZ)</td>\n",
       "      <td>ARM17A5ABB</td>\n",
       "      <td>246.0</td>\n",
       "      <td>1.7</td>\n",
       "      <td>(13A.) Compact all-refrigerators - automatic d...</td>\n",
       "    </tr>\n",
       "  </tbody>\n",
       "</table>\n",
       "</div>"
      ],
      "text/plain": [
       "  Basic_Model_Number_m Individual_Model_Number_Covered_by_Basic_Model_m  \\\n",
       "0         HS-60LN(SNZ)                                       ARM17A5ABB   \n",
       "\n",
       "   Annual_Energy_Use__Kilowatt_Hours_Year__d  \\\n",
       "0                                      246.0   \n",
       "\n",
       "   Total_Adjusted_Volume__Cubic_Feet__d  \\\n",
       "0                                   1.7   \n",
       "\n",
       "                    Product_Group_Code_Description_s  \n",
       "0  (13A.) Compact all-refrigerators - automatic d...  "
      ]
     },
     "metadata": {},
     "output_type": "display_data"
    }
   ],
   "source": [
    "print(f\"There are {epa_ref.shape} items in epa_ref. Here are the columns:\")\n",
    "display(epa_ref.head(1))\n",
    "print(f\"There are {epa_freeze.shape} items in epa_freeze. Here are the columns:\")\n",
    "display(epa_freeze.head(1))\n",
    "print(f\"There are {doe_ref.shape} items in doe_ref. Here are the columns:\") # way more as expected (because DoE should theoretically be a superset of EPA)\n",
    "display(doe_ref.head(1))"
   ]
  },
  {
   "cell_type": "code",
   "execution_count": 75,
   "metadata": {},
   "outputs": [
    {
     "name": "stdout",
     "output_type": "stream",
     "text": [
      "Columns in epa_ref that aren't in epa_freeze:\n"
     ]
    },
    {
     "data": {
      "text/plain": [
       "set()"
      ]
     },
     "execution_count": 75,
     "metadata": {},
     "output_type": "execute_result"
    }
   ],
   "source": [
    "# columns in epa_ref that aren't in epa_freeze\n",
    "print(f\"Columns in epa_ref that aren't in epa_freeze:\")\n",
    "set(epa_ref.columns) - set(epa_freeze.columns)"
   ]
  },
  {
   "cell_type": "code",
   "execution_count": 76,
   "metadata": {},
   "outputs": [
    {
     "data": {
      "text/plain": [
       "<Axes: >"
      ]
     },
     "metadata": {},
     "output_type": "display_data"
    },
    {
     "data": {
      "text/plain": [
       "<Axes: >"
      ]
     },
     "metadata": {},
     "output_type": "display_data"
    },
    {
     "data": {
      "text/plain": [
       "<Axes: >"
      ]
     },
     "metadata": {},
     "output_type": "display_data"
    },
    {
     "data": {
      "text/plain": [
       "Text(0.5, 1.0, 'Refrigerator Volume (ft3) in each dataset')"
      ]
     },
     "execution_count": 76,
     "metadata": {},
     "output_type": "execute_result"
    },
    {
     "data": {
      "image/png": "[encoded data removed]",
      "text/plain": [
       "<Figure size 1600x400 with 1 Axes>"
      ]
     },
     "metadata": {},
     "output_type": "display_data"
    }
   ],
   "source": [
    "# plot histograms of cubic feet \n",
    "display(doe_ref['Total_Adjusted_Volume__Cubic_Feet__d'].hist(bins=30, figsize=(16, 4))) # blue\n",
    "display(epa_ref['Adjusted Volume (ft3)'].hist(bins=30, figsize=(16, 4))) # orange\n",
    "display(epa_freeze['Adjusted Volume (ft3)'].hist(bins=30, figsize=(16, 4))) # green\n",
    "\n",
    "\n",
    "# add title\n",
    "plt.title('Refrigerator Volume (ft3) in each dataset')"
   ]
  },
  {
   "cell_type": "code",
   "execution_count": 77,
   "metadata": {},
   "outputs": [],
   "source": [
    "epa_ref['energy_per_volume'] = epa_ref['Annual Energy Use (kWh/yr)'] / epa_ref['Adjusted Volume (ft3)']\n",
    "epa_freeze['energy_per_volume'] = epa_freeze['Annual Energy Use (kWh/yr)'] / epa_freeze['Adjusted Volume (ft3)']\n",
    "doe_ref['energy_per_volume'] = doe_ref['Annual_Energy_Use__Kilowatt_Hours_Year__d'] / doe_ref['Total_Adjusted_Volume__Cubic_Feet__d']"
   ]
  },
  {
   "cell_type": "code",
   "execution_count": 78,
   "metadata": {},
   "outputs": [
    {
     "data": {
      "text/plain": [
       "<Axes: >"
      ]
     },
     "metadata": {},
     "output_type": "display_data"
    },
    {
     "data": {
      "text/plain": [
       "<Axes: >"
      ]
     },
     "metadata": {},
     "output_type": "display_data"
    },
    {
     "data": {
      "text/plain": [
       "<Axes: >"
      ]
     },
     "metadata": {},
     "output_type": "display_data"
    },
    {
     "data": {
      "text/plain": [
       "Text(0.5, 1.0, 'Energy per Volume (kWh/yr/ft3)')"
      ]
     },
     "execution_count": 78,
     "metadata": {},
     "output_type": "execute_result"
    },
    {
     "data": {
      "image/png": "[encoded data removed]",
      "text/plain": [
       "<Figure size 1600x400 with 1 Axes>"
      ]
     },
     "metadata": {},
     "output_type": "display_data"
    }
   ],
   "source": [
    "# plot energy_per_volume\n",
    "display(doe_ref['energy_per_volume'].hist(bins=30, figsize=(16, 4))) # blue\n",
    "display(epa_ref['energy_per_volume'].hist(bins=30, figsize=(16, 4))) # orange\n",
    "display(epa_freeze['energy_per_volume'].hist(bins=30, figsize=(16, 4))) # green\n",
    "\n",
    "# add title\n",
    "plt.title('Energy per Volume (kWh/yr/ft3)')"
   ]
  },
  {
   "attachments": {},
   "cell_type": "markdown",
   "metadata": {},
   "source": [
    "# Finding and separating out the overlap in EPA and DOE data"
   ]
  },
  {
   "cell_type": "code",
   "execution_count": 79,
   "metadata": {},
   "outputs": [
    {
     "data": {
      "text/html": [
       "<div>\n",
       "<style scoped>\n",
       "    .dataframe tbody tr th:only-of-type {\n",
       "        vertical-align: middle;\n",
       "    }\n",
       "\n",
       "    .dataframe tbody tr th {\n",
       "        vertical-align: top;\n",
       "    }\n",
       "\n",
       "    .dataframe thead th {\n",
       "        text-align: right;\n",
       "    }\n",
       "</style>\n",
       "<table border=\"1\" class=\"dataframe\">\n",
       "  <thead>\n",
       "    <tr style=\"text-align: right;\">\n",
       "      <th></th>\n",
       "      <th>Product Class</th>\n",
       "      <th>Model Number</th>\n",
       "      <th>Annual Energy Use (kWh/yr)</th>\n",
       "      <th>Adjusted Volume (ft3)</th>\n",
       "      <th>Compact</th>\n",
       "      <th>energy_per_volume</th>\n",
       "      <th>code</th>\n",
       "      <th>adj_volume</th>\n",
       "      <th>annual_energy_use</th>\n",
       "    </tr>\n",
       "  </thead>\n",
       "  <tbody>\n",
       "    <tr>\n",
       "      <th>958</th>\n",
       "      <td>5I - Refrigerator-freezers - automatic defrost...</td>\n",
       "      <td>GDE21EGK****</td>\n",
       "      <td>572</td>\n",
       "      <td>25.5</td>\n",
       "      <td>No</td>\n",
       "      <td>22.431373</td>\n",
       "      <td>5I</td>\n",
       "      <td>25.5</td>\n",
       "      <td>572.0</td>\n",
       "    </tr>\n",
       "    <tr>\n",
       "      <th>23</th>\n",
       "      <td>17 - Compact upright freezers with automatic d...</td>\n",
       "      <td>RB36S</td>\n",
       "      <td>300</td>\n",
       "      <td>6.5</td>\n",
       "      <td>Yes</td>\n",
       "      <td>46.153846</td>\n",
       "      <td>17</td>\n",
       "      <td>6.5</td>\n",
       "      <td>300.0</td>\n",
       "    </tr>\n",
       "    <tr>\n",
       "      <th>32</th>\n",
       "      <td>9I-BI - Built-In upright freezers with automat...</td>\n",
       "      <td>F9UFESC450PR</td>\n",
       "      <td>452</td>\n",
       "      <td>15.3</td>\n",
       "      <td>No</td>\n",
       "      <td>29.542484</td>\n",
       "      <td>9I-BI</td>\n",
       "      <td>15.3</td>\n",
       "      <td>452.0</td>\n",
       "    </tr>\n",
       "  </tbody>\n",
       "</table>\n",
       "</div>"
      ],
      "text/plain": [
       "                                         Product Class  Model Number  \\\n",
       "958  5I - Refrigerator-freezers - automatic defrost...  GDE21EGK****   \n",
       "23   17 - Compact upright freezers with automatic d...         RB36S   \n",
       "32   9I-BI - Built-In upright freezers with automat...  F9UFESC450PR   \n",
       "\n",
       "     Annual Energy Use (kWh/yr)  Adjusted Volume (ft3) Compact  \\\n",
       "958                         572                   25.5      No   \n",
       "23                          300                    6.5     Yes   \n",
       "32                          452                   15.3      No   \n",
       "\n",
       "     energy_per_volume   code  adj_volume  annual_energy_use  \n",
       "958          22.431373     5I        25.5              572.0  \n",
       "23           46.153846     17         6.5              300.0  \n",
       "32           29.542484  9I-BI        15.3              452.0  "
      ]
     },
     "execution_count": 79,
     "metadata": {},
     "output_type": "execute_result"
    }
   ],
   "source": [
    "# same as my epa_all above or as Minju's epa_ref_freeze\n",
    "epa = pd.concat([epa_ref, epa_freeze]).drop_duplicates()\\\n",
    "    .assign(\n",
    "        code = lambda x: x['Product Class'].str.split(\" -\").str[0], # since product codes don't exist on epa_freeze, we have to split them out of \"Product Class\"\n",
    "        \n",
    "        # standardize some columns across both datasets\n",
    "        adj_volume = lambda x: x['Adjusted Volume (ft3)'].astype(float),\n",
    "        annual_energy_use = lambda x: x['Annual Energy Use (kWh/yr)'].astype(float),\n",
    "        energy_per_volume = lambda x: x['annual_energy_use'] / x['adj_volume']\n",
    "    )\n",
    "\n",
    "epa.sample(3)"
   ]
  },
  {
   "cell_type": "code",
   "execution_count": 80,
   "metadata": {},
   "outputs": [
    {
     "data": {
      "text/html": [
       "<div>\n",
       "<style scoped>\n",
       "    .dataframe tbody tr th:only-of-type {\n",
       "        vertical-align: middle;\n",
       "    }\n",
       "\n",
       "    .dataframe tbody tr th {\n",
       "        vertical-align: top;\n",
       "    }\n",
       "\n",
       "    .dataframe thead th {\n",
       "        text-align: right;\n",
       "    }\n",
       "</style>\n",
       "<table border=\"1\" class=\"dataframe\">\n",
       "  <thead>\n",
       "    <tr style=\"text-align: right;\">\n",
       "      <th></th>\n",
       "      <th>Basic_Model_Number_m</th>\n",
       "      <th>Individual_Model_Number_Covered_by_Basic_Model_m</th>\n",
       "      <th>Annual_Energy_Use__Kilowatt_Hours_Year__d</th>\n",
       "      <th>Total_Adjusted_Volume__Cubic_Feet__d</th>\n",
       "      <th>Product_Group_Code_Description_s</th>\n",
       "      <th>energy_per_volume</th>\n",
       "      <th>source</th>\n",
       "      <th>adj_volume</th>\n",
       "      <th>annual_energy_use</th>\n",
       "    </tr>\n",
       "  </thead>\n",
       "  <tbody>\n",
       "    <tr>\n",
       "      <th>0</th>\n",
       "      <td>HS-60LN(SNZ)</td>\n",
       "      <td>ARM17A5ABB</td>\n",
       "      <td>246.0</td>\n",
       "      <td>1.7</td>\n",
       "      <td>(13A.) Compact all-refrigerators - automatic d...</td>\n",
       "      <td>144.705882</td>\n",
       "      <td>doe</td>\n",
       "      <td>1.7</td>\n",
       "      <td>246.0</td>\n",
       "    </tr>\n",
       "    <tr>\n",
       "      <th>1</th>\n",
       "      <td>HS-259CN(SNZK)</td>\n",
       "      <td>MRC07M7AWW</td>\n",
       "      <td>225.0</td>\n",
       "      <td>12.3</td>\n",
       "      <td>(18.) Compact chest freezers</td>\n",
       "      <td>18.292683</td>\n",
       "      <td>doe</td>\n",
       "      <td>12.3</td>\n",
       "      <td>225.0</td>\n",
       "    </tr>\n",
       "    <tr>\n",
       "      <th>2</th>\n",
       "      <td>HS-121LN(S4NZ1)</td>\n",
       "      <td>MRM33S9ASL</td>\n",
       "      <td>220.0</td>\n",
       "      <td>3.3</td>\n",
       "      <td>(11A.) Compact all-refrigerators - manual defrost</td>\n",
       "      <td>66.666667</td>\n",
       "      <td>doe</td>\n",
       "      <td>3.3</td>\n",
       "      <td>220.0</td>\n",
       "    </tr>\n",
       "  </tbody>\n",
       "</table>\n",
       "</div>"
      ],
      "text/plain": [
       "  Basic_Model_Number_m Individual_Model_Number_Covered_by_Basic_Model_m  \\\n",
       "0         HS-60LN(SNZ)                                       ARM17A5ABB   \n",
       "1       HS-259CN(SNZK)                                       MRC07M7AWW   \n",
       "2      HS-121LN(S4NZ1)                                       MRM33S9ASL   \n",
       "\n",
       "   Annual_Energy_Use__Kilowatt_Hours_Year__d  \\\n",
       "0                                      246.0   \n",
       "1                                      225.0   \n",
       "2                                      220.0   \n",
       "\n",
       "   Total_Adjusted_Volume__Cubic_Feet__d  \\\n",
       "0                                   1.7   \n",
       "1                                  12.3   \n",
       "2                                   3.3   \n",
       "\n",
       "                    Product_Group_Code_Description_s  energy_per_volume  \\\n",
       "0  (13A.) Compact all-refrigerators - automatic d...         144.705882   \n",
       "1                       (18.) Compact chest freezers          18.292683   \n",
       "2  (11A.) Compact all-refrigerators - manual defrost          66.666667   \n",
       "\n",
       "  source  adj_volume  annual_energy_use  \n",
       "0    doe         1.7              246.0  \n",
       "1    doe        12.3              225.0  \n",
       "2    doe         3.3              220.0  "
      ]
     },
     "execution_count": 80,
     "metadata": {},
     "output_type": "execute_result"
    }
   ],
   "source": [
    "doe = doe_ref.assign(\n",
    "    source='doe',\n",
    "\n",
    "    # standardize some columns across both datasets\n",
    "    adj_volume = lambda x: x['Total_Adjusted_Volume__Cubic_Feet__d'].astype(float),\n",
    "    annual_energy_use = lambda x: x['Annual_Energy_Use__Kilowatt_Hours_Year__d'].astype(float),\n",
    "    energy_per_volume = lambda x: x['annual_energy_use'] / x['adj_volume']\n",
    ")\n",
    "\n",
    "doe.head(3)"
   ]
  },
  {
   "attachments": {},
   "cell_type": "markdown",
   "metadata": {},
   "source": [
    "We want to dedupe `epa_ref_freeze` and `doe_ref` on their model numbers after replacing `*` and `#` with wildcards on both. We expect doe to be a superset of epa."
   ]
  },
  {
   "cell_type": "code",
   "execution_count": 81,
   "metadata": {},
   "outputs": [],
   "source": [
    "# Find all models from the EPA are in the DOE, using REGEX\n",
    "def regexify_model_number(model_number):\n",
    "    model_number_regex = re.sub(r'\\*', '.', model_number)\n",
    "    model_number_regex = re.sub(r'\\#', '.', model_number_regex)\n",
    "    return model_number_regex\n",
    "\n",
    "epa['regexed_model_no'] = epa['Model Number'].apply(regexify_model_number)\n",
    "doe['regexed_model_no'] = doe['Individual_Model_Number_Covered_by_Basic_Model_m'].apply(regexify_model_number)"
   ]
  },
  {
   "attachments": {},
   "cell_type": "markdown",
   "metadata": {},
   "source": [
    "Each dataframe now has a `regexed_model_no` column. Here are some models that have wildcards in the model number in both dataframes."
   ]
  },
  {
   "cell_type": "code",
   "execution_count": 82,
   "metadata": {},
   "outputs": [
    {
     "data": {
      "text/html": [
       "<div>\n",
       "<style scoped>\n",
       "    .dataframe tbody tr th:only-of-type {\n",
       "        vertical-align: middle;\n",
       "    }\n",
       "\n",
       "    .dataframe tbody tr th {\n",
       "        vertical-align: top;\n",
       "    }\n",
       "\n",
       "    .dataframe thead th {\n",
       "        text-align: right;\n",
       "    }\n",
       "</style>\n",
       "<table border=\"1\" class=\"dataframe\">\n",
       "  <thead>\n",
       "    <tr style=\"text-align: right;\">\n",
       "      <th></th>\n",
       "      <th>regexed_model_no</th>\n",
       "      <th>source</th>\n",
       "    </tr>\n",
       "  </thead>\n",
       "  <tbody>\n",
       "    <tr>\n",
       "      <th>3421</th>\n",
       "      <td>UC-24R./..</td>\n",
       "      <td>epa</td>\n",
       "    </tr>\n",
       "    <tr>\n",
       "      <th>873</th>\n",
       "      <td>FFHT1824US</td>\n",
       "      <td>epa</td>\n",
       "    </tr>\n",
       "    <tr>\n",
       "      <th>113</th>\n",
       "      <td>ARW24S1ABB</td>\n",
       "      <td>epa</td>\n",
       "    </tr>\n",
       "  </tbody>\n",
       "</table>\n",
       "</div>"
      ],
      "text/plain": [
       "     regexed_model_no source\n",
       "3421       UC-24R./..    epa\n",
       "873        FFHT1824US    epa\n",
       "113        ARW24S1ABB    epa"
      ]
     },
     "metadata": {},
     "output_type": "display_data"
    },
    {
     "data": {
      "text/html": [
       "<div>\n",
       "<style scoped>\n",
       "    .dataframe tbody tr th:only-of-type {\n",
       "        vertical-align: middle;\n",
       "    }\n",
       "\n",
       "    .dataframe tbody tr th {\n",
       "        vertical-align: top;\n",
       "    }\n",
       "\n",
       "    .dataframe thead th {\n",
       "        text-align: right;\n",
       "    }\n",
       "</style>\n",
       "<table border=\"1\" class=\"dataframe\">\n",
       "  <thead>\n",
       "    <tr style=\"text-align: right;\">\n",
       "      <th></th>\n",
       "      <th>regexed_model_no</th>\n",
       "      <th>source</th>\n",
       "    </tr>\n",
       "  </thead>\n",
       "  <tbody>\n",
       "    <tr>\n",
       "      <th>205</th>\n",
       "      <td>316817160</td>\n",
       "      <td>doe</td>\n",
       "    </tr>\n",
       "    <tr>\n",
       "      <th>200</th>\n",
       "      <td>VSBS2100EW</td>\n",
       "      <td>doe</td>\n",
       "    </tr>\n",
       "    <tr>\n",
       "      <th>2142</th>\n",
       "      <td>WRT318FZD...</td>\n",
       "      <td>doe</td>\n",
       "    </tr>\n",
       "  </tbody>\n",
       "</table>\n",
       "</div>"
      ],
      "text/plain": [
       "     regexed_model_no source\n",
       "205         316817160    doe\n",
       "200        VSBS2100EW    doe\n",
       "2142     WRT318FZD...    doe"
      ]
     },
     "metadata": {},
     "output_type": "display_data"
    }
   ],
   "source": [
    "epa_regexes = epa[['regexed_model_no']] \n",
    "epa_regexes['source'] = 'epa'\n",
    "display(epa_regexes.sample(3))\n",
    "\n",
    "doe_regexes = doe[['regexed_model_no']]\n",
    "doe_regexes['source'] = 'doe'\n",
    "display(doe_regexes.sample(3))\n"
   ]
  },
  {
   "attachments": {},
   "cell_type": "markdown",
   "metadata": {},
   "source": [
    "now we will make join tables for each"
   ]
  },
  {
   "cell_type": "code",
   "execution_count": 83,
   "metadata": {},
   "outputs": [
    {
     "data": {
      "application/vnd.jupyter.widget-view+json": {
       "model_id": "e22f8fd13ed24d0cbdd32b32fb1256ff",
       "version_major": 2,
       "version_minor": 0
      },
      "text/plain": [
       "  0%|          | 0/3786 [00:00<?, ?it/s]"
      ]
     },
     "metadata": {},
     "output_type": "display_data"
    },
    {
     "data": {
      "text/html": [
       "<div>\n",
       "<style scoped>\n",
       "    .dataframe tbody tr th:only-of-type {\n",
       "        vertical-align: middle;\n",
       "    }\n",
       "\n",
       "    .dataframe tbody tr th {\n",
       "        vertical-align: top;\n",
       "    }\n",
       "\n",
       "    .dataframe thead th {\n",
       "        text-align: right;\n",
       "    }\n",
       "</style>\n",
       "<table border=\"1\" class=\"dataframe\">\n",
       "  <thead>\n",
       "    <tr style=\"text-align: right;\">\n",
       "      <th></th>\n",
       "      <th>epa_regex</th>\n",
       "      <th>Individual_Model_Number_Covered_by_Basic_Model_m</th>\n",
       "    </tr>\n",
       "  </thead>\n",
       "  <tbody>\n",
       "    <tr>\n",
       "      <th>0</th>\n",
       "      <td>AR17T0W</td>\n",
       "      <td>AR17T0W</td>\n",
       "    </tr>\n",
       "    <tr>\n",
       "      <th>0</th>\n",
       "      <td>AR17T1B</td>\n",
       "      <td>AR17T1B</td>\n",
       "    </tr>\n",
       "    <tr>\n",
       "      <th>0</th>\n",
       "      <td>AR2406W</td>\n",
       "      <td>AR2406W</td>\n",
       "    </tr>\n",
       "    <tr>\n",
       "      <th>0</th>\n",
       "      <td>AR24T3S</td>\n",
       "      <td>AR24T3S</td>\n",
       "    </tr>\n",
       "    <tr>\n",
       "      <th>0</th>\n",
       "      <td>AR321BB</td>\n",
       "      <td>AR321BB</td>\n",
       "    </tr>\n",
       "    <tr>\n",
       "      <th>...</th>\n",
       "      <td>...</td>\n",
       "      <td>...</td>\n",
       "    </tr>\n",
       "    <tr>\n",
       "      <th>0</th>\n",
       "      <td>CUF-301BK</td>\n",
       "      <td>CUF-301BK</td>\n",
       "    </tr>\n",
       "    <tr>\n",
       "      <th>0</th>\n",
       "      <td>CUF-301SS</td>\n",
       "      <td>CUF-301SS</td>\n",
       "    </tr>\n",
       "    <tr>\n",
       "      <th>0</th>\n",
       "      <td>UDF-139SS</td>\n",
       "      <td>UDF-139SS</td>\n",
       "    </tr>\n",
       "    <tr>\n",
       "      <th>0</th>\n",
       "      <td>W.FU021A.E.</td>\n",
       "      <td>W*FU021A*E#</td>\n",
       "    </tr>\n",
       "    <tr>\n",
       "      <th>0</th>\n",
       "      <td>WRSR036H..E.</td>\n",
       "      <td>WRSR036H**E#</td>\n",
       "    </tr>\n",
       "  </tbody>\n",
       "</table>\n",
       "<p>2590 rows × 2 columns</p>\n",
       "</div>"
      ],
      "text/plain": [
       "       epa_regex Individual_Model_Number_Covered_by_Basic_Model_m\n",
       "0        AR17T0W                                          AR17T0W\n",
       "0        AR17T1B                                          AR17T1B\n",
       "0        AR2406W                                          AR2406W\n",
       "0        AR24T3S                                          AR24T3S\n",
       "0        AR321BB                                          AR321BB\n",
       "..           ...                                              ...\n",
       "0      CUF-301BK                                        CUF-301BK\n",
       "0      CUF-301SS                                        CUF-301SS\n",
       "0      UDF-139SS                                        UDF-139SS\n",
       "0    W.FU021A.E.                                      W*FU021A*E#\n",
       "0   WRSR036H..E.                                     WRSR036H**E#\n",
       "\n",
       "[2590 rows x 2 columns]"
      ]
     },
     "execution_count": 83,
     "metadata": {},
     "output_type": "execute_result"
    }
   ],
   "source": [
    "def matches_from_doe(model_number_pattern):\n",
    "    models = set(doe['Individual_Model_Number_Covered_by_Basic_Model_m'])\n",
    "    # get all models that match the pattern\n",
    "    matches = [(str(model_number_pattern), model) for model in models if re.match(model_number_pattern, model)]\n",
    "    return pd.DataFrame(matches, columns=['epa_regex', 'Individual_Model_Number_Covered_by_Basic_Model_m'])\n",
    "    \n",
    "epa_regex_join = pd.concat(epa_regexes.regexed_model_no.progress_apply(matches_from_doe).tolist())\n",
    "epa_regex_join"
   ]
  },
  {
   "cell_type": "code",
   "execution_count": 84,
   "metadata": {},
   "outputs": [
    {
     "data": {
      "application/vnd.jupyter.widget-view+json": {
       "model_id": "031314d2b94b428e9892916e2f81d627",
       "version_major": 2,
       "version_minor": 0
      },
      "text/plain": [
       "  0%|          | 0/9067 [00:00<?, ?it/s]"
      ]
     },
     "metadata": {},
     "output_type": "display_data"
    },
    {
     "data": {
      "text/html": [
       "<div>\n",
       "<style scoped>\n",
       "    .dataframe tbody tr th:only-of-type {\n",
       "        vertical-align: middle;\n",
       "    }\n",
       "\n",
       "    .dataframe tbody tr th {\n",
       "        vertical-align: top;\n",
       "    }\n",
       "\n",
       "    .dataframe thead th {\n",
       "        text-align: right;\n",
       "    }\n",
       "</style>\n",
       "<table border=\"1\" class=\"dataframe\">\n",
       "  <thead>\n",
       "    <tr style=\"text-align: right;\">\n",
       "      <th></th>\n",
       "      <th>doe_regex</th>\n",
       "      <th>Model Number</th>\n",
       "    </tr>\n",
       "  </thead>\n",
       "  <tbody>\n",
       "    <tr>\n",
       "      <th>0</th>\n",
       "      <td>ARM17A5ABB</td>\n",
       "      <td>ARM17A5ABB</td>\n",
       "    </tr>\n",
       "    <tr>\n",
       "      <th>0</th>\n",
       "      <td>MRC07M7AWW</td>\n",
       "      <td>MRC07M7AWW</td>\n",
       "    </tr>\n",
       "    <tr>\n",
       "      <th>0</th>\n",
       "      <td>MRM33S9ASL</td>\n",
       "      <td>MRM33S9ASL</td>\n",
       "    </tr>\n",
       "    <tr>\n",
       "      <th>0</th>\n",
       "      <td>LMS044M6RBE</td>\n",
       "      <td>LMS044M6RBE</td>\n",
       "    </tr>\n",
       "    <tr>\n",
       "      <th>0</th>\n",
       "      <td>7931...</td>\n",
       "      <td>7931***</td>\n",
       "    </tr>\n",
       "    <tr>\n",
       "      <th>...</th>\n",
       "      <td>...</td>\n",
       "      <td>...</td>\n",
       "    </tr>\n",
       "    <tr>\n",
       "      <th>0</th>\n",
       "      <td>CTMR74C1B</td>\n",
       "      <td>CTMR74C1B</td>\n",
       "    </tr>\n",
       "    <tr>\n",
       "      <th>0</th>\n",
       "      <td>VBFR1800ESE-C</td>\n",
       "      <td>VBFR1800ESE-C</td>\n",
       "    </tr>\n",
       "    <tr>\n",
       "      <th>0</th>\n",
       "      <td>BCRK43B</td>\n",
       "      <td>BCRK43B</td>\n",
       "    </tr>\n",
       "    <tr>\n",
       "      <th>0</th>\n",
       "      <td>BCRK32B</td>\n",
       "      <td>BCRK32B</td>\n",
       "    </tr>\n",
       "    <tr>\n",
       "      <th>0</th>\n",
       "      <td>BCRK17B</td>\n",
       "      <td>BCRK17B</td>\n",
       "    </tr>\n",
       "  </tbody>\n",
       "</table>\n",
       "<p>3446 rows × 2 columns</p>\n",
       "</div>"
      ],
      "text/plain": [
       "        doe_regex   Model Number\n",
       "0      ARM17A5ABB     ARM17A5ABB\n",
       "0      MRC07M7AWW     MRC07M7AWW\n",
       "0      MRM33S9ASL     MRM33S9ASL\n",
       "0     LMS044M6RBE    LMS044M6RBE\n",
       "0         7931...        7931***\n",
       "..            ...            ...\n",
       "0       CTMR74C1B      CTMR74C1B\n",
       "0   VBFR1800ESE-C  VBFR1800ESE-C\n",
       "0         BCRK43B        BCRK43B\n",
       "0         BCRK32B        BCRK32B\n",
       "0         BCRK17B        BCRK17B\n",
       "\n",
       "[3446 rows x 2 columns]"
      ]
     },
     "execution_count": 84,
     "metadata": {},
     "output_type": "execute_result"
    }
   ],
   "source": [
    "def matches_from_epa(model_number_pattern):\n",
    "    models = set(epa['Model Number'])\n",
    "    # get all models that match the pattern\n",
    "    matches = [(str(model_number_pattern), model) for model in models if re.match(model_number_pattern, model)]\n",
    "    return pd.DataFrame(matches, columns=['doe_regex', 'Model Number'])\n",
    "    \n",
    "doe_regex_join = pd.concat(doe_regexes.regexed_model_no.progress_apply(matches_from_epa).tolist())\n",
    "doe_regex_join"
   ]
  },
  {
   "attachments": {},
   "cell_type": "markdown",
   "metadata": {},
   "source": [
    "now if you want all of the items in the epa database that are also in the doe database, you'll want to join through both of these, since you can join by an epa ID matching a doe pattern, or a doe id matching an epa pattern..."
   ]
  },
  {
   "cell_type": "code",
   "execution_count": 85,
   "metadata": {},
   "outputs": [
    {
     "data": {
      "application/vnd.jupyter.widget-view+json": {
       "model_id": "4a2fd6a671b94e71a2eb3d053c5348db",
       "version_major": 2,
       "version_minor": 0
      },
      "text/plain": [
       "  0%|          | 0/3786 [00:00<?, ?it/s]"
      ]
     },
     "metadata": {},
     "output_type": "display_data"
    },
    {
     "data": {
      "text/plain": [
       "exists_in_other_db\n",
       "True     2238\n",
       "False    1548\n",
       "Name: count, dtype: int64"
      ]
     },
     "execution_count": 85,
     "metadata": {},
     "output_type": "execute_result"
    }
   ],
   "source": [
    "# (we think) ...this is assuming our other assumptions about these columns like what they mean, things about duplicates, etc all hold...\n",
    "# which I have some doubts about...\n",
    "epa['exists_in_other_db'] = epa.progress_apply(lambda row: \n",
    "                                                    row['Model Number'] in doe_regex_join['Model Number'].values or \n",
    "                                                    row['regexed_model_no'] in epa_regex_join['epa_regex'].values, \n",
    "                                               axis=1)\n",
    "epa.exists_in_other_db.value_counts()"
   ]
  },
  {
   "cell_type": "code",
   "execution_count": 86,
   "metadata": {},
   "outputs": [
    {
     "data": {
      "application/vnd.jupyter.widget-view+json": {
       "model_id": "7ea04d7d9b88446597bb7a759abb1ca0",
       "version_major": 2,
       "version_minor": 0
      },
      "text/plain": [
       "  0%|          | 0/9067 [00:00<?, ?it/s]"
      ]
     },
     "metadata": {},
     "output_type": "display_data"
    },
    {
     "data": {
      "text/plain": [
       "exists_in_other_db\n",
       "False    5527\n",
       "True     3540\n",
       "Name: count, dtype: int64"
      ]
     },
     "execution_count": 86,
     "metadata": {},
     "output_type": "execute_result"
    }
   ],
   "source": [
    "doe['exists_in_other_db'] = doe.progress_apply(lambda row: \n",
    "                                                    row['regexed_model_no'] in doe_regex_join['doe_regex'].values or \n",
    "                                                    row['Individual_Model_Number_Covered_by_Basic_Model_m'] in epa_regex_join['Individual_Model_Number_Covered_by_Basic_Model_m'].values,\n",
    "                                               axis=1)\n",
    "                                             \n",
    "doe.exists_in_other_db.value_counts()"
   ]
  },
  {
   "cell_type": "markdown",
   "metadata": {},
   "source": [
    "# Energy Per Volume Analysis"
   ]
  },
  {
   "cell_type": "code",
   "execution_count": 87,
   "metadata": {},
   "outputs": [],
   "source": [
    "doe_minus_epa = doe[~doe['exists_in_other_db']]"
   ]
  },
  {
   "cell_type": "code",
   "execution_count": 88,
   "metadata": {},
   "outputs": [
    {
     "data": {
      "text/plain": [
       "<Axes: >"
      ]
     },
     "metadata": {},
     "output_type": "display_data"
    },
    {
     "data": {
      "text/plain": [
       "<Axes: >"
      ]
     },
     "metadata": {},
     "output_type": "display_data"
    },
    {
     "data": {
      "text/plain": [
       "Text(0.5, 1.0, 'Energy per Volume (kWh/yr/ft3)')"
      ]
     },
     "execution_count": 88,
     "metadata": {},
     "output_type": "execute_result"
    },
    {
     "data": {
      "image/png": "[encoded data removed]",
      "text/plain": [
       "<Figure size 1600x400 with 1 Axes>"
      ]
     },
     "metadata": {},
     "output_type": "display_data"
    }
   ],
   "source": [
    "# plot energy_per_volume\n",
    "display(doe_minus_epa['energy_per_volume'].hist(bins=100, figsize=(16, 4))) # blue\n",
    "display(epa['energy_per_volume'].hist(bins=100, figsize=(16, 4))) # orange\n",
    "\n",
    "# add title\n",
    "plt.title('Energy per Volume (kWh/yr/ft3)')"
   ]
  },
  {
   "cell_type": "code",
   "execution_count": 89,
   "metadata": {},
   "outputs": [],
   "source": [
    "epa_compact = epa[epa['Compact']==\"Yes\"]\n",
    "epa_standard = epa[epa['Compact']==\"No\"]"
   ]
  },
  {
   "cell_type": "code",
   "execution_count": 90,
   "metadata": {},
   "outputs": [],
   "source": [
    "doe_mepa_compact = doe_minus_epa[doe_minus_epa['Product_Group_Code_Description_s'].str.lower().str.contains('compact')]\n",
    "doe_mepa_standard = doe_minus_epa[~doe_minus_epa['Product_Group_Code_Description_s'].str.lower().str.contains('compact')]"
   ]
  },
  {
   "cell_type": "code",
   "execution_count": 134,
   "metadata": {},
   "outputs": [
    {
     "name": "stdout",
     "output_type": "stream",
     "text": [
      "Percentage of compact refrigerators from ENERGY STAR database: 0.43\n",
      "Percentage of compact refrigerators from DOE database  0.34\n"
     ]
    }
   ],
   "source": [
    "print(\"Percentage of compact refrigerators from ENERGY STAR database:\", round(len(epa_compact)/len(epa), 2))\n",
    "print(\"Percentage of compact refrigerators from DOE database \", round(len(doe_mepa_compact)/len(doe_minus_epa), 2))"
   ]
  },
  {
   "cell_type": "code",
   "execution_count": 136,
   "metadata": {},
   "outputs": [
    {
     "name": "stdout",
     "output_type": "stream",
     "text": [
      "Percentage of standard refrigerators from ENERGY STAR database: 0.57\n",
      "Percentage of standard refrigerators from ENERGY STAR database: 0.66\n"
     ]
    }
   ],
   "source": [
    "print(\"Percentage of standard refrigerators from ENERGY STAR database:\", round(len(epa_standard)/len(epa), 2))\n",
    "print(\"Percentage of standard refrigerators from ENERGY STAR database:\", round(len(doe_mepa_standard)/len(doe_minus_epa), 2))"
   ]
  },
  {
   "cell_type": "markdown",
   "metadata": {},
   "source": [
    "## ALL"
   ]
  },
  {
   "cell_type": "code",
   "execution_count": 93,
   "metadata": {},
   "outputs": [
    {
     "name": "stdout",
     "output_type": "stream",
     "text": [
      "The average energy per volume for EPA refrigerators is 42.67 kWh/yr/ft3\n"
     ]
    },
    {
     "data": {
      "text/plain": [
       "count    3786.000000\n",
       "mean       42.665545\n",
       "std        31.309679\n",
       "min         8.324607\n",
       "25%        20.391304\n",
       "50%        24.978632\n",
       "75%        61.136364\n",
       "max       241.000000\n",
       "Name: energy_per_volume, dtype: float64"
      ]
     },
     "metadata": {},
     "output_type": "display_data"
    },
    {
     "name": "stdout",
     "output_type": "stream",
     "text": [
      "The average energy per volume for DOE refrigerators is 36.00 kWh/yr/ft3\n"
     ]
    },
    {
     "data": {
      "text/plain": [
       "count    5527.000000\n",
       "mean       36.003430\n",
       "std        28.215573\n",
       "min         9.726027\n",
       "25%        20.368421\n",
       "50%        24.349206\n",
       "75%        39.939124\n",
       "max       181.333333\n",
       "Name: energy_per_volume, dtype: float64"
      ]
     },
     "metadata": {},
     "output_type": "display_data"
    }
   ],
   "source": [
    "print(f\"The average energy per volume for EPA refrigerators is {epa.energy_per_volume.mean():.2f} kWh/yr/ft3\")\n",
    "display(epa.energy_per_volume.describe())\n",
    "\n",
    "print(f\"The average energy per volume for DOE refrigerators is {doe_minus_epa.energy_per_volume.mean():.2f} kWh/yr/ft3\")\n",
    "display(doe_minus_epa.energy_per_volume.describe())"
   ]
  },
  {
   "cell_type": "code",
   "execution_count": 94,
   "metadata": {},
   "outputs": [
    {
     "data": {
      "text/plain": [
       "<Axes: >"
      ]
     },
     "metadata": {},
     "output_type": "display_data"
    },
    {
     "data": {
      "text/plain": [
       "<Axes: >"
      ]
     },
     "metadata": {},
     "output_type": "display_data"
    },
    {
     "data": {
      "text/plain": [
       "<matplotlib.lines.Line2D at 0x178a92860>"
      ]
     },
     "execution_count": 94,
     "metadata": {},
     "output_type": "execute_result"
    },
    {
     "data": {
      "image/png": "[encoded data removed]",
      "text/plain": [
       "<Figure size 1600x800 with 1 Axes>"
      ]
     },
     "metadata": {},
     "output_type": "display_data"
    }
   ],
   "source": [
    "# Plot energy per volume for standard refrigerators\n",
    "display(doe_minus_epa['energy_per_volume'].hist(bins=50, figsize=(16, 8), color='red', alpha=0.4, label='DOE'))\n",
    "display(epa['energy_per_volume'].hist(bins=50, figsize=(16, 8), color='green', alpha=0.4, label='EPA'))\n",
    "\n",
    "# Add title\n",
    "plt.title('Energy per Volume (kWh/yr/ft3) for Refrigerators')\n",
    "\n",
    "# Add legend\n",
    "plt.legend()\n",
    "\n",
    "# Add average lines\n",
    "plt.axvline(doe_minus_epa.energy_per_volume.mean(), color='red', linestyle='dashed', linewidth=1)\n",
    "plt.axvline(epa.energy_per_volume.mean(), color='green', linestyle='dashed', linewidth=1)"
   ]
  },
  {
   "cell_type": "code",
   "execution_count": 95,
   "metadata": {},
   "outputs": [
    {
     "name": "stdout",
     "output_type": "stream",
     "text": [
      "41.05% of EPA refrigerators use more energy per volume than the average DOE refrigerator.\n"
     ]
    }
   ],
   "source": [
    "more_energy_than_doe_average = epa[epa.energy_per_volume > doe_minus_epa.energy_per_volume.mean()]['Model Number'].count()/epa['Model Number'].count()\n",
    "\n",
    "print(f\"{more_energy_than_doe_average:.2%} of EPA refrigerators use more energy per volume than the average DOE refrigerator.\")"
   ]
  },
  {
   "cell_type": "markdown",
   "metadata": {},
   "source": [
    "## Standard"
   ]
  },
  {
   "cell_type": "code",
   "execution_count": 97,
   "metadata": {},
   "outputs": [
    {
     "name": "stdout",
     "output_type": "stream",
     "text": [
      "The average energy per volume for EPA standard refrigerators is 21.38 kWh/yr/ft3\n"
     ]
    },
    {
     "data": {
      "text/plain": [
       "count    2150.000000\n",
       "mean       21.380316\n",
       "std         4.859461\n",
       "min         8.324607\n",
       "25%        18.111111\n",
       "50%        21.307096\n",
       "75%        23.864542\n",
       "max        80.666667\n",
       "Name: energy_per_volume, dtype: float64"
      ]
     },
     "metadata": {},
     "output_type": "display_data"
    },
    {
     "name": "stdout",
     "output_type": "stream",
     "text": [
      "The average energy per volume for DOE standard refrigerators is 22.46 kWh/yr/ft3\n"
     ]
    },
    {
     "data": {
      "text/plain": [
       "count    3670.000000\n",
       "mean       22.459583\n",
       "std         3.837722\n",
       "min        10.758808\n",
       "25%        19.323671\n",
       "50%        22.500000\n",
       "75%        25.224490\n",
       "max        49.468085\n",
       "Name: energy_per_volume, dtype: float64"
      ]
     },
     "metadata": {},
     "output_type": "display_data"
    }
   ],
   "source": [
    "print(f\"The average energy per volume for EPA standard refrigerators is {epa_standard.energy_per_volume.mean():.2f} kWh/yr/ft3\")\n",
    "display(epa_standard.energy_per_volume.describe())\n",
    "\n",
    "print(f\"The average energy per volume for DOE standard refrigerators is {doe_mepa_standard.energy_per_volume.mean():.2f} kWh/yr/ft3\")\n",
    "display(doe_mepa_standard.energy_per_volume.describe())"
   ]
  },
  {
   "cell_type": "code",
   "execution_count": 98,
   "metadata": {},
   "outputs": [
    {
     "data": {
      "text/plain": [
       "<Axes: >"
      ]
     },
     "metadata": {},
     "output_type": "display_data"
    },
    {
     "data": {
      "text/plain": [
       "<Axes: >"
      ]
     },
     "metadata": {},
     "output_type": "display_data"
    },
    {
     "data": {
      "text/plain": [
       "<matplotlib.lines.Line2D at 0x1796d7130>"
      ]
     },
     "execution_count": 98,
     "metadata": {},
     "output_type": "execute_result"
    },
    {
     "data": {
      "image/png": "[encoded data removed]",
      "text/plain": [
       "<Figure size 1600x800 with 1 Axes>"
      ]
     },
     "metadata": {},
     "output_type": "display_data"
    }
   ],
   "source": [
    "# Plot energy per volume for standard refrigerators\n",
    "display(doe_mepa_standard['energy_per_volume'].hist(bins=50, figsize=(16, 8), color='red', alpha=0.4, label='DOE'))\n",
    "display(epa_standard['energy_per_volume'].hist(bins=50, figsize=(16, 8), color='green', alpha=0.4, label='EPA'))\n",
    "\n",
    "# Add title\n",
    "plt.title('Energy per Volume (kWh/yr/ft3) for Standard Refrigerators')\n",
    "\n",
    "# Add legend\n",
    "plt.legend()\n",
    "\n",
    "# Add average lines\n",
    "plt.axvline(doe_mepa_standard.energy_per_volume.mean(), color='red', linestyle='dashed', linewidth=1)\n",
    "plt.axvline(epa_standard.energy_per_volume.mean(), color='green', linestyle='dashed', linewidth=1)"
   ]
  },
  {
   "cell_type": "code",
   "execution_count": 99,
   "metadata": {},
   "outputs": [
    {
     "name": "stdout",
     "output_type": "stream",
     "text": [
      "33.26% of EPA standard refrigerators use more energy per volume than the average DOE standard refrigerator.\n"
     ]
    }
   ],
   "source": [
    "more_energy_than_doe_average_standard = epa_standard[epa_standard.energy_per_volume > doe_mepa_standard.energy_per_volume.mean()]['Model Number'].count()/epa_standard['Model Number'].count()\n",
    "\n",
    "print(f\"{more_energy_than_doe_average_standard:.2%} of EPA standard refrigerators use more energy per volume than the average DOE standard refrigerator.\")"
   ]
  },
  {
   "cell_type": "markdown",
   "metadata": {},
   "source": [
    "## Compact"
   ]
  },
  {
   "cell_type": "code",
   "execution_count": 100,
   "metadata": {},
   "outputs": [
    {
     "name": "stdout",
     "output_type": "stream",
     "text": [
      "The average energy per volume for EPA compact refrigerators is 70.64 kWh/yr/ft3\n"
     ]
    },
    {
     "data": {
      "text/plain": [
       "count    1636.000000\n",
       "mean       70.638186\n",
       "std        29.319220\n",
       "min        16.097561\n",
       "25%        51.363636\n",
       "50%        66.666667\n",
       "75%        82.692308\n",
       "max       241.000000\n",
       "Name: energy_per_volume, dtype: float64"
      ]
     },
     "metadata": {},
     "output_type": "display_data"
    },
    {
     "name": "stdout",
     "output_type": "stream",
     "text": [
      "The average energy per volume for DOE compact refrigerators is 62.77 kWh/yr/ft3\n"
     ]
    },
    {
     "data": {
      "text/plain": [
       "count    1857.000000\n",
       "mean       62.770213\n",
       "std        35.519822\n",
       "min         9.726027\n",
       "25%        34.204545\n",
       "50%        58.653846\n",
       "75%        83.548387\n",
       "max       181.333333\n",
       "Name: energy_per_volume, dtype: float64"
      ]
     },
     "metadata": {},
     "output_type": "display_data"
    }
   ],
   "source": [
    "print(f\"The average energy per volume for EPA compact refrigerators is {epa_compact.energy_per_volume.mean():.2f} kWh/yr/ft3\")\n",
    "display(epa_compact.energy_per_volume.describe())\n",
    "\n",
    "print(f\"The average energy per volume for DOE compact refrigerators is {doe_mepa_compact.energy_per_volume.mean():.2f} kWh/yr/ft3\")\n",
    "display(doe_mepa_compact.energy_per_volume.describe())"
   ]
  },
  {
   "cell_type": "code",
   "execution_count": 101,
   "metadata": {},
   "outputs": [
    {
     "data": {
      "text/plain": [
       "<Axes: >"
      ]
     },
     "metadata": {},
     "output_type": "display_data"
    },
    {
     "data": {
      "text/plain": [
       "<Axes: >"
      ]
     },
     "metadata": {},
     "output_type": "display_data"
    },
    {
     "data": {
      "text/plain": [
       "<matplotlib.lines.Line2D at 0x179632bf0>"
      ]
     },
     "execution_count": 101,
     "metadata": {},
     "output_type": "execute_result"
    },
    {
     "data": {
      "image/png": "[encoded data removed]",
      "text/plain": [
       "<Figure size 1600x800 with 1 Axes>"
      ]
     },
     "metadata": {},
     "output_type": "display_data"
    }
   ],
   "source": [
    "display(doe_mepa_compact['energy_per_volume'].hist(bins=50, figsize=(16, 8), color='red', alpha=0.4, label='DOE'))\n",
    "display(epa_compact['energy_per_volume'].hist(bins=50, figsize=(16, 8), color='green', alpha=0.4, label='EPA'))\n",
    "\n",
    "\n",
    "# Add title\n",
    "plt.title('Energy per Volume (kWh/yr/ft3) for Compact Refrigerators')\n",
    "\n",
    "# Add legend\n",
    "plt.legend()\n",
    "\n",
    "# Add average lines\n",
    "plt.axvline(doe_mepa_compact.energy_per_volume.mean(), color='red', linestyle='dashed', linewidth=1)\n",
    "plt.axvline(epa_compact.energy_per_volume.mean(), color='green', linestyle='dashed', linewidth=1)"
   ]
  },
  {
   "cell_type": "code",
   "execution_count": 102,
   "metadata": {},
   "outputs": [
    {
     "name": "stdout",
     "output_type": "stream",
     "text": [
      "53.42% of EPA compact refrigerators use more energy per volume than the average DOE compact refrigerator.\n"
     ]
    }
   ],
   "source": [
    "more_energy_than_doe_average_compact = epa_compact[epa_compact.energy_per_volume > doe_mepa_compact.energy_per_volume.mean()]['Model Number'].count()/epa_compact['Model Number'].count()\n",
    "\n",
    "print(f\"{more_energy_than_doe_average_compact:.2%} of EPA compact refrigerators use more energy per volume than the average DOE compact refrigerator.\")"
   ]
  },
  {
   "cell_type": "markdown",
   "metadata": {},
   "source": [
    "# Export Analysis Results as CSV"
   ]
  },
  {
   "cell_type": "code",
   "execution_count": 107,
   "metadata": {},
   "outputs": [
    {
     "name": "stdout",
     "output_type": "stream",
     "text": [
      "3786\n",
      "2150\n",
      "1636\n",
      "9067\n",
      "5527\n",
      "3670\n",
      "1857\n"
     ]
    }
   ],
   "source": [
    "print(len(epa))\n",
    "print(len(epa_standard))\n",
    "print(len(epa_compact))\n",
    "print(len(doe_ref))\n",
    "print(len(doe_minus_epa))\n",
    "print(len(doe_mepa_standard))\n",
    "print(len(doe_mepa_compact))"
   ]
  },
  {
   "cell_type": "code",
   "execution_count": 104,
   "metadata": {},
   "outputs": [],
   "source": [
    "epa.to_csv('analysis/epa.csv', index=False)\n",
    "epa_standard.to_csv('analysis/epa_standard.csv', index=False)\n",
    "epa_compact.to_csv('analysis/epa_compact.csv', index=False)\n",
    "doe_ref.to_csv('analysis/doe_ref.csv', index=False)\n",
    "doe_minus_epa.to_csv('analysis/doe_minus_epa.csv', index=False)\n",
    "doe_mepa_compact.to_csv('analysis/doe_mepa_compact.csv', index=False)\n",
    "doe_mepa_standard.to_csv('analysis/doe_mepa_standard.csv', index=False)"
   ]
  },
  {
   "cell_type": "markdown",
   "metadata": {},
   "source": [
    "# Brand Analysis"
   ]
  },
  {
   "cell_type": "code",
   "execution_count": 125,
   "metadata": {},
   "outputs": [],
   "source": [
    "epa_all = pd.read_csv('epa_residential_refrigerators.csv', dtype={'ENERGY STAR Unique ID': str}).drop_duplicates()\n",
    "epa_all = epa_all[[\n",
    "    'Brand Name',\n",
    "    'Product Class',\n",
    "    'Model Number',\n",
    "    'Annual Energy Use (kWh/yr)',\n",
    "    'Adjusted Volume (ft3)',\n",
    "    'Compact'\n",
    "]].drop_duplicates()"
   ]
  },
  {
   "cell_type": "code",
   "execution_count": 126,
   "metadata": {},
   "outputs": [],
   "source": [
    "epa_all['energy_per_volume'] = epa_all['Annual Energy Use (kWh/yr)'] / epa_all['Adjusted Volume (ft3)']"
   ]
  },
  {
   "cell_type": "code",
   "execution_count": 127,
   "metadata": {},
   "outputs": [
    {
     "data": {
      "text/html": [
       "<div>\n",
       "<style scoped>\n",
       "    .dataframe tbody tr th:only-of-type {\n",
       "        vertical-align: middle;\n",
       "    }\n",
       "\n",
       "    .dataframe tbody tr th {\n",
       "        vertical-align: top;\n",
       "    }\n",
       "\n",
       "    .dataframe thead th {\n",
       "        text-align: right;\n",
       "    }\n",
       "</style>\n",
       "<table border=\"1\" class=\"dataframe\">\n",
       "  <thead>\n",
       "    <tr style=\"text-align: right;\">\n",
       "      <th></th>\n",
       "      <th>Brand Name</th>\n",
       "      <th>energy_per_volume</th>\n",
       "    </tr>\n",
       "  </thead>\n",
       "  <tbody>\n",
       "    <tr>\n",
       "      <th>0</th>\n",
       "      <td>ECOFLOW</td>\n",
       "      <td>186.923077</td>\n",
       "    </tr>\n",
       "    <tr>\n",
       "      <th>1</th>\n",
       "      <td>Mini Bar</td>\n",
       "      <td>156.871795</td>\n",
       "    </tr>\n",
       "    <tr>\n",
       "      <th>2</th>\n",
       "      <td>White-Westinghouse</td>\n",
       "      <td>129.375000</td>\n",
       "    </tr>\n",
       "    <tr>\n",
       "      <th>3</th>\n",
       "      <td>RVISION</td>\n",
       "      <td>111.149733</td>\n",
       "    </tr>\n",
       "    <tr>\n",
       "      <th>4</th>\n",
       "      <td>DOMETIC</td>\n",
       "      <td>106.799366</td>\n",
       "    </tr>\n",
       "    <tr>\n",
       "      <th>5</th>\n",
       "      <td>Danby or Danby Designer</td>\n",
       "      <td>103.929924</td>\n",
       "    </tr>\n",
       "    <tr>\n",
       "      <th>6</th>\n",
       "      <td>Willz</td>\n",
       "      <td>103.225806</td>\n",
       "    </tr>\n",
       "    <tr>\n",
       "      <th>7</th>\n",
       "      <td>IGLOO</td>\n",
       "      <td>100.355240</td>\n",
       "    </tr>\n",
       "    <tr>\n",
       "      <th>8</th>\n",
       "      <td>Antarctic Star</td>\n",
       "      <td>99.218750</td>\n",
       "    </tr>\n",
       "    <tr>\n",
       "      <th>9</th>\n",
       "      <td>Lorell</td>\n",
       "      <td>98.402778</td>\n",
       "    </tr>\n",
       "  </tbody>\n",
       "</table>\n",
       "</div>"
      ],
      "text/plain": [
       "                Brand Name  energy_per_volume\n",
       "0                  ECOFLOW         186.923077\n",
       "1                 Mini Bar         156.871795\n",
       "2       White-Westinghouse         129.375000\n",
       "3                  RVISION         111.149733\n",
       "4                  DOMETIC         106.799366\n",
       "5  Danby or Danby Designer         103.929924\n",
       "6                    Willz         103.225806\n",
       "7                    IGLOO         100.355240\n",
       "8           Antarctic Star          99.218750\n",
       "9                   Lorell          98.402778"
      ]
     },
     "execution_count": 127,
     "metadata": {},
     "output_type": "execute_result"
    }
   ],
   "source": [
    "epa_all.groupby('Brand Name').mean('energy_per_volume').sort_values('energy_per_volume', ascending=False)['energy_per_volume'].reset_index().head(10)"
   ]
  },
  {
   "cell_type": "code",
   "execution_count": 128,
   "metadata": {},
   "outputs": [
    {
     "data": {
      "text/html": [
       "<div>\n",
       "<style scoped>\n",
       "    .dataframe tbody tr th:only-of-type {\n",
       "        vertical-align: middle;\n",
       "    }\n",
       "\n",
       "    .dataframe tbody tr th {\n",
       "        vertical-align: top;\n",
       "    }\n",
       "\n",
       "    .dataframe thead th {\n",
       "        text-align: right;\n",
       "    }\n",
       "</style>\n",
       "<table border=\"1\" class=\"dataframe\">\n",
       "  <thead>\n",
       "    <tr style=\"text-align: right;\">\n",
       "      <th></th>\n",
       "      <th>Brand Name</th>\n",
       "      <th>energy_per_volume</th>\n",
       "    </tr>\n",
       "  </thead>\n",
       "  <tbody>\n",
       "    <tr>\n",
       "      <th>0</th>\n",
       "      <td>Asko</td>\n",
       "      <td>9.599462</td>\n",
       "    </tr>\n",
       "    <tr>\n",
       "      <th>1</th>\n",
       "      <td>Gallery</td>\n",
       "      <td>15.121951</td>\n",
       "    </tr>\n",
       "    <tr>\n",
       "      <th>2</th>\n",
       "      <td>True Residential</td>\n",
       "      <td>15.583756</td>\n",
       "    </tr>\n",
       "    <tr>\n",
       "      <th>3</th>\n",
       "      <td>CTM</td>\n",
       "      <td>16.086957</td>\n",
       "    </tr>\n",
       "    <tr>\n",
       "      <th>4</th>\n",
       "      <td>SANKEY</td>\n",
       "      <td>16.272111</td>\n",
       "    </tr>\n",
       "    <tr>\n",
       "      <th>5</th>\n",
       "      <td>Gladiator</td>\n",
       "      <td>16.460674</td>\n",
       "    </tr>\n",
       "    <tr>\n",
       "      <th>6</th>\n",
       "      <td>Conservator</td>\n",
       "      <td>16.705643</td>\n",
       "    </tr>\n",
       "    <tr>\n",
       "      <th>7</th>\n",
       "      <td>Elisii</td>\n",
       "      <td>16.831513</td>\n",
       "    </tr>\n",
       "    <tr>\n",
       "      <th>8</th>\n",
       "      <td>L2</td>\n",
       "      <td>16.860455</td>\n",
       "    </tr>\n",
       "    <tr>\n",
       "      <th>9</th>\n",
       "      <td>QG QUALITY GLOBAL</td>\n",
       "      <td>17.203791</td>\n",
       "    </tr>\n",
       "  </tbody>\n",
       "</table>\n",
       "</div>"
      ],
      "text/plain": [
       "          Brand Name  energy_per_volume\n",
       "0               Asko           9.599462\n",
       "1            Gallery          15.121951\n",
       "2   True Residential          15.583756\n",
       "3                CTM          16.086957\n",
       "4             SANKEY          16.272111\n",
       "5          Gladiator          16.460674\n",
       "6        Conservator          16.705643\n",
       "7             Elisii          16.831513\n",
       "8                 L2          16.860455\n",
       "9  QG QUALITY GLOBAL          17.203791"
      ]
     },
     "execution_count": 128,
     "metadata": {},
     "output_type": "execute_result"
    }
   ],
   "source": [
    "epa_all.groupby('Brand Name').mean('energy_per_volume').sort_values('energy_per_volume', ascending=True)['energy_per_volume'].reset_index().head(10)"
   ]
  },
  {
   "cell_type": "code",
   "execution_count": 130,
   "metadata": {},
   "outputs": [
    {
     "data": {
      "text/html": [
       "<div>\n",
       "<style scoped>\n",
       "    .dataframe tbody tr th:only-of-type {\n",
       "        vertical-align: middle;\n",
       "    }\n",
       "\n",
       "    .dataframe tbody tr th {\n",
       "        vertical-align: top;\n",
       "    }\n",
       "\n",
       "    .dataframe thead th {\n",
       "        text-align: right;\n",
       "    }\n",
       "</style>\n",
       "<table border=\"1\" class=\"dataframe\">\n",
       "  <thead>\n",
       "    <tr style=\"text-align: right;\">\n",
       "      <th></th>\n",
       "      <th>Annual Energy Use (kWh/yr)</th>\n",
       "      <th>Adjusted Volume (ft3)</th>\n",
       "      <th>energy_per_volume</th>\n",
       "    </tr>\n",
       "    <tr>\n",
       "      <th>Brand Name</th>\n",
       "      <th></th>\n",
       "      <th></th>\n",
       "      <th></th>\n",
       "    </tr>\n",
       "  </thead>\n",
       "  <tbody>\n",
       "    <tr>\n",
       "      <th>Frigidaire</th>\n",
       "      <td>387.685714</td>\n",
       "      <td>15.598286</td>\n",
       "      <td>51.480984</td>\n",
       "    </tr>\n",
       "    <tr>\n",
       "      <th>Kenmore</th>\n",
       "      <td>463.553846</td>\n",
       "      <td>20.330769</td>\n",
       "      <td>35.816890</td>\n",
       "    </tr>\n",
       "    <tr>\n",
       "      <th>Whirlpool</th>\n",
       "      <td>464.136842</td>\n",
       "      <td>19.411579</td>\n",
       "      <td>34.460216</td>\n",
       "    </tr>\n",
       "    <tr>\n",
       "      <th>GE</th>\n",
       "      <td>505.413333</td>\n",
       "      <td>24.355333</td>\n",
       "      <td>22.177422</td>\n",
       "    </tr>\n",
       "    <tr>\n",
       "      <th>LG</th>\n",
       "      <td>584.260870</td>\n",
       "      <td>27.720870</td>\n",
       "      <td>21.609929</td>\n",
       "    </tr>\n",
       "    <tr>\n",
       "      <th>Samsung</th>\n",
       "      <td>615.604651</td>\n",
       "      <td>29.672093</td>\n",
       "      <td>21.019838</td>\n",
       "    </tr>\n",
       "  </tbody>\n",
       "</table>\n",
       "</div>"
      ],
      "text/plain": [
       "            Annual Energy Use (kWh/yr)  Adjusted Volume (ft3)  \\\n",
       "Brand Name                                                      \n",
       "Frigidaire                  387.685714              15.598286   \n",
       "Kenmore                     463.553846              20.330769   \n",
       "Whirlpool                   464.136842              19.411579   \n",
       "GE                          505.413333              24.355333   \n",
       "LG                          584.260870              27.720870   \n",
       "Samsung                     615.604651              29.672093   \n",
       "\n",
       "            energy_per_volume  \n",
       "Brand Name                     \n",
       "Frigidaire          51.480984  \n",
       "Kenmore             35.816890  \n",
       "Whirlpool           34.460216  \n",
       "GE                  22.177422  \n",
       "LG                  21.609929  \n",
       "Samsung             21.019838  "
      ]
     },
     "execution_count": 130,
     "metadata": {},
     "output_type": "execute_result"
    }
   ],
   "source": [
    "(\n",
    "    epa_all[\n",
    "        epa_all['Brand Name']\n",
    "              .str.lower()\n",
    "              .isin(['samsung', 'lg', 'ge', 'frigidaire', 'whirlpool', 'kenmore'])\n",
    "    ]\n",
    "    .groupby('Brand Name')\n",
    "    .mean('energy_per_volume').sort_values('energy_per_volume', ascending=False).head(10)\n",
    ")"
   ]
  }
 ],
 "metadata": {
  "kernelspec": {
   "display_name": "Python 3",
   "language": "python",
   "name": "python3"
  },
  "language_info": {
   "codemirror_mode": {
    "name": "ipython",
    "version": 3
   },
   "file_extension": ".py",
   "mimetype": "text/x-python",
   "name": "python",
   "nbconvert_exporter": "python",
   "pygments_lexer": "ipython3",
   "version": "3.10.11"
  },
  "orig_nbformat": 4
 },
 "nbformat": 4,
 "nbformat_minor": 2
}
